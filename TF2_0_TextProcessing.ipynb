{
  "nbformat": 4,
  "nbformat_minor": 0,
  "metadata": {
    "colab": {
      "name": "TF2.0_TextProcessing.ipynb",
      "provenance": [],
      "authorship_tag": "ABX9TyP/RtfWdlw7KK/ljKfSlJyc",
      "include_colab_link": true
    },
    "kernelspec": {
      "name": "python3",
      "display_name": "Python 3"
    },
    "accelerator": "GPU"
  },
  "cells": [
    {
      "cell_type": "markdown",
      "metadata": {
        "id": "view-in-github",
        "colab_type": "text"
      },
      "source": [
        "<a href=\"https://colab.research.google.com/github/Akshata1992/TensorFlow/blob/master/TF2_0_TextProcessing.ipynb\" target=\"_parent\"><img src=\"https://colab.research.google.com/assets/colab-badge.svg\" alt=\"Open In Colab\"/></a>"
      ]
    },
    {
      "cell_type": "code",
      "metadata": {
        "id": "vlbduwuLT4nc",
        "colab_type": "code",
        "colab": {
          "base_uri": "https://localhost:8080/",
          "height": 35
        },
        "outputId": "cc434c0a-da84-436d-f901-47395e81adb2"
      },
      "source": [
        "import tensorflow as tf\n",
        "print(tf.__version__)"
      ],
      "execution_count": 2,
      "outputs": [
        {
          "output_type": "stream",
          "text": [
            "2.3.0\n"
          ],
          "name": "stdout"
        }
      ]
    },
    {
      "cell_type": "code",
      "metadata": {
        "id": "CHrKQojkUA55",
        "colab_type": "code",
        "colab": {}
      },
      "source": [
        "#import all other libraries\n",
        "from tensorflow.keras.preprocessing.text import Tokenizer\n",
        "from tensorflow.keras.preprocessing.sequence import pad_sequences"
      ],
      "execution_count": 3,
      "outputs": []
    },
    {
      "cell_type": "code",
      "metadata": {
        "id": "VZZHYKuXUBTa",
        "colab_type": "code",
        "colab": {}
      },
      "source": [
        "#create a dummy data\n",
        "sentences = ['I like preparing food.',\n",
        "             'I like to bake cake.',\n",
        "             'I want to do course on baking.']"
      ],
      "execution_count": 4,
      "outputs": []
    },
    {
      "cell_type": "code",
      "metadata": {
        "id": "B0S8VHoOUBm3",
        "colab_type": "code",
        "colab": {}
      },
      "source": [
        "MAX_VOCAB_SIZE=20000\n",
        "tokenizer = Tokenizer(num_words=MAX_VOCAB_SIZE)\n",
        "tokenizer.fit_on_texts(sentences)\n",
        "sequences = tokenizer.texts_to_sequences(sentences)"
      ],
      "execution_count": 5,
      "outputs": []
    },
    {
      "cell_type": "code",
      "metadata": {
        "id": "Y0zzHfr2Vxl2",
        "colab_type": "code",
        "colab": {
          "base_uri": "https://localhost:8080/",
          "height": 35
        },
        "outputId": "71033a59-ba13-4ba0-f07b-ee1a88d16bdc"
      },
      "source": [
        "print(sequences)"
      ],
      "execution_count": 6,
      "outputs": [
        {
          "output_type": "stream",
          "text": [
            "[[1, 2, 4, 5], [1, 2, 3, 6, 7], [1, 8, 3, 9, 10, 11, 12]]\n"
          ],
          "name": "stdout"
        }
      ]
    },
    {
      "cell_type": "code",
      "metadata": {
        "id": "wLFBHIDrV52J",
        "colab_type": "code",
        "colab": {
          "base_uri": "https://localhost:8080/",
          "height": 235
        },
        "outputId": "d9327fde-0025-49a3-d65b-94e80afb2551"
      },
      "source": [
        "#Get the word to index mapping\n",
        "tokenizer.word_index"
      ],
      "execution_count": 7,
      "outputs": [
        {
          "output_type": "execute_result",
          "data": {
            "text/plain": [
              "{'bake': 6,\n",
              " 'baking': 12,\n",
              " 'cake': 7,\n",
              " 'course': 10,\n",
              " 'do': 9,\n",
              " 'food': 5,\n",
              " 'i': 1,\n",
              " 'like': 2,\n",
              " 'on': 11,\n",
              " 'preparing': 4,\n",
              " 'to': 3,\n",
              " 'want': 8}"
            ]
          },
          "metadata": {
            "tags": []
          },
          "execution_count": 7
        }
      ]
    },
    {
      "cell_type": "code",
      "metadata": {
        "id": "bqBu-lgCV5_Q",
        "colab_type": "code",
        "colab": {
          "base_uri": "https://localhost:8080/",
          "height": 72
        },
        "outputId": "d8f85f91-d9cc-44c4-c9e4-5aec36d2cb78"
      },
      "source": [
        "#pad the sequences, use the default\n",
        "data = pad_sequences(sequences)\n",
        "print(data)"
      ],
      "execution_count": 8,
      "outputs": [
        {
          "output_type": "stream",
          "text": [
            "[[ 0  0  0  1  2  4  5]\n",
            " [ 0  0  1  2  3  6  7]\n",
            " [ 1  8  3  9 10 11 12]]\n"
          ],
          "name": "stdout"
        }
      ]
    },
    {
      "cell_type": "code",
      "metadata": {
        "id": "pp74j1ZzV6Jn",
        "colab_type": "code",
        "colab": {
          "base_uri": "https://localhost:8080/",
          "height": 72
        },
        "outputId": "15667062-8089-48c8-b90d-07090b44b235"
      },
      "source": [
        "MAX_SEQUENCE_LENGTH = 5\n",
        "data = pad_sequences(sequences, maxlen=MAX_SEQUENCE_LENGTH)\n",
        "data"
      ],
      "execution_count": 20,
      "outputs": [
        {
          "output_type": "execute_result",
          "data": {
            "text/plain": [
              "array([[ 0,  1,  2,  4,  5],\n",
              "       [ 1,  2,  3,  6,  7],\n",
              "       [ 3,  9, 10, 11, 12]], dtype=int32)"
            ]
          },
          "metadata": {
            "tags": []
          },
          "execution_count": 20
        }
      ]
    },
    {
      "cell_type": "code",
      "metadata": {
        "id": "ze_mzI2plYx2",
        "colab_type": "code",
        "colab": {
          "base_uri": "https://localhost:8080/",
          "height": 72
        },
        "outputId": "091fd742-1294-4711-9ce4-cb37234edaeb"
      },
      "source": [
        "data = pad_sequences(sequences,maxlen=MAX_SEQUENCE_LENGTH ,padding='pre')\n",
        "data"
      ],
      "execution_count": 15,
      "outputs": [
        {
          "output_type": "execute_result",
          "data": {
            "text/plain": [
              "array([[ 0,  0,  0,  1,  2,  4,  5],\n",
              "       [ 0,  0,  1,  2,  3,  6,  7],\n",
              "       [ 1,  8,  3,  9, 10, 11, 12]], dtype=int32)"
            ]
          },
          "metadata": {
            "tags": []
          },
          "execution_count": 15
        }
      ]
    },
    {
      "cell_type": "code",
      "metadata": {
        "id": "JgByaCePlY4-",
        "colab_type": "code",
        "colab": {
          "base_uri": "https://localhost:8080/",
          "height": 72
        },
        "outputId": "a93e9a38-ca57-4a73-dd46-d308259a704e"
      },
      "source": [
        "data = pad_sequences(sequences,maxlen=MAX_SEQUENCE_LENGTH,padding='post')\n",
        "data"
      ],
      "execution_count": 16,
      "outputs": [
        {
          "output_type": "execute_result",
          "data": {
            "text/plain": [
              "array([[ 1,  2,  4,  5,  0,  0,  0],\n",
              "       [ 1,  2,  3,  6,  7,  0,  0],\n",
              "       [ 1,  8,  3,  9, 10, 11, 12]], dtype=int32)"
            ]
          },
          "metadata": {
            "tags": []
          },
          "execution_count": 16
        }
      ]
    },
    {
      "cell_type": "code",
      "metadata": {
        "id": "wpR0brUylZBZ",
        "colab_type": "code",
        "colab": {
          "base_uri": "https://localhost:8080/",
          "height": 72
        },
        "outputId": "0fc50b34-b0a4-4736-f5c2-77828222a60f"
      },
      "source": [
        "data = pad_sequences(sequences,maxlen=MAX_SEQUENCE_LENGTH,truncating='pre')\n",
        "data"
      ],
      "execution_count": 24,
      "outputs": [
        {
          "output_type": "execute_result",
          "data": {
            "text/plain": [
              "array([[ 0,  1,  2,  4,  5],\n",
              "       [ 1,  2,  3,  6,  7],\n",
              "       [ 3,  9, 10, 11, 12]], dtype=int32)"
            ]
          },
          "metadata": {
            "tags": []
          },
          "execution_count": 24
        }
      ]
    },
    {
      "cell_type": "code",
      "metadata": {
        "id": "NwMyjKTpmRrq",
        "colab_type": "code",
        "colab": {
          "base_uri": "https://localhost:8080/",
          "height": 72
        },
        "outputId": "c1297647-ab3b-4164-eec7-e60cebcf8b4e"
      },
      "source": [
        "data = pad_sequences(sequences,maxlen=MAX_SEQUENCE_LENGTH,truncating='post')\n",
        "data"
      ],
      "execution_count": 25,
      "outputs": [
        {
          "output_type": "execute_result",
          "data": {
            "text/plain": [
              "array([[ 0,  1,  2,  4,  5],\n",
              "       [ 1,  2,  3,  6,  7],\n",
              "       [ 1,  8,  3,  9, 10]], dtype=int32)"
            ]
          },
          "metadata": {
            "tags": []
          },
          "execution_count": 25
        }
      ]
    }
  ]
}