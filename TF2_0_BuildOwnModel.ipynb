{
  "nbformat": 4,
  "nbformat_minor": 0,
  "metadata": {
    "colab": {
      "name": "TF2.0_BuildOwnModel.ipynb",
      "provenance": [],
      "authorship_tag": "ABX9TyPqCEihiTlrgl5i0SpycDjv",
      "include_colab_link": true
    },
    "kernelspec": {
      "name": "python3",
      "display_name": "Python 3"
    },
    "accelerator": "GPU"
  },
  "cells": [
    {
      "cell_type": "markdown",
      "metadata": {
        "id": "view-in-github",
        "colab_type": "text"
      },
      "source": [
        "<a href=\"https://colab.research.google.com/github/Akshata1992/TensorFlow/blob/master/TF2_0_BuildOwnModel.ipynb\" target=\"_parent\"><img src=\"https://colab.research.google.com/assets/colab-badge.svg\" alt=\"Open In Colab\"/></a>"
      ]
    },
    {
      "cell_type": "code",
      "metadata": {
        "id": "1Idm9c3eZGm6",
        "colab_type": "code",
        "colab": {
          "base_uri": "https://localhost:8080/",
          "height": 35
        },
        "outputId": "be32f994-be92-482b-9330-5d3a22cf43a7"
      },
      "source": [
        "#Install tensorflow if version is < 2.x\n",
        "\n",
        "try:\n",
        "  %tensorflow_version 2.x\n",
        "except Exception:\n",
        "  pass\n",
        "\n",
        "import tensorflow as tf\n",
        "print(tf.__version__)"
      ],
      "execution_count": 90,
      "outputs": [
        {
          "output_type": "stream",
          "text": [
            "2.3.0\n"
          ],
          "name": "stdout"
        }
      ]
    },
    {
      "cell_type": "code",
      "metadata": {
        "id": "_hUGdEaoZ89E",
        "colab_type": "code",
        "colab": {}
      },
      "source": [
        "#other imports\n",
        "import numpy as np\n",
        "import matplotlib.pyplot as plt"
      ],
      "execution_count": 91,
      "outputs": []
    },
    {
      "cell_type": "code",
      "metadata": {
        "id": "BBNIoqrvZ9St",
        "colab_type": "code",
        "colab": {}
      },
      "source": [
        "#Define Linear Regression Model\n",
        "\n",
        "class LinearRegression(tf.keras.Model):\n",
        "  def __init__(self,num_inputs,num_outputs):\n",
        "    super(LinearRegression,self).__init__()\n",
        "    self.W = tf.Variable(tf.random_normal_initializer()((num_inputs,num_outputs)))\n",
        "    self.b = tf.Variable(tf.zeros(num_outputs))\n",
        "    self.params = [self.W,self.b]\n",
        "\n",
        "  def call(self,inputs):\n",
        "    return tf.matmul(inputs,self.W) + self.b"
      ],
      "execution_count": 92,
      "outputs": []
    },
    {
      "cell_type": "code",
      "metadata": {
        "id": "aQX1RUCDZ9bq",
        "colab_type": "code",
        "colab": {}
      },
      "source": [
        "#create dataset\n",
        "N = 100\n",
        "D = 1\n",
        "K = 1\n",
        "X = np.random.random((N, D)) * 2 - 1\n",
        "w = np.random.randn(D, K)\n",
        "b = np.random.randn()\n",
        "Y = X.dot(w) + b + np.random.randn(N, 1) * 0.1"
      ],
      "execution_count": 93,
      "outputs": []
    },
    {
      "cell_type": "code",
      "metadata": {
        "id": "jLFu_h89Z9j7",
        "colab_type": "code",
        "colab": {
          "base_uri": "https://localhost:8080/",
          "height": 283
        },
        "outputId": "a6d329b4-fc3f-4ddf-bd2c-2c990069f9d9"
      },
      "source": [
        "plt.scatter(X,Y)"
      ],
      "execution_count": 94,
      "outputs": [
        {
          "output_type": "execute_result",
          "data": {
            "text/plain": [
              "<matplotlib.collections.PathCollection at 0x7f297dbae860>"
            ]
          },
          "metadata": {
            "tags": []
          },
          "execution_count": 94
        },
        {
          "output_type": "display_data",
          "data": {
            "image/png": "[encoded data removed]",
            "text/plain": [
              "<Figure size 432x288 with 1 Axes>"
            ]
          },
          "metadata": {
            "tags": [],
            "needs_background": "light"
          }
        }
      ]
    },
    {
      "cell_type": "code",
      "metadata": {
        "id": "wAvJbQXYZ9sz",
        "colab_type": "code",
        "colab": {}
      },
      "source": [
        "#Cast the type for tensorflow\n",
        "X = X.astype(np.float32)\n",
        "Y = Y.astype(np.float32)"
      ],
      "execution_count": 95,
      "outputs": []
    },
    {
      "cell_type": "code",
      "metadata": {
        "id": "BPiiGMEc1O4g",
        "colab_type": "code",
        "colab": {}
      },
      "source": [
        "#Define the loss\n",
        "\n",
        "def get_loss(model,inputs,targets):\n",
        "  predictions = model(inputs)\n",
        "  errors = targets - predictions\n",
        "  return tf.reduce_mean(tf.square(errors))"
      ],
      "execution_count": 96,
      "outputs": []
    },
    {
      "cell_type": "code",
      "metadata": {
        "id": "_xUj0Bmc1xY_",
        "colab_type": "code",
        "colab": {}
      },
      "source": [
        "#define Gradient \n",
        "def get_gradient(model,inputs,targets):\n",
        "  with tf.GradientTape() as tape:\n",
        "    #calcualte the loss\n",
        "    loss_value = get_loss(model,inputs,targets)\n",
        "\n",
        "  #return gradient\n",
        "  return tape.gradient(loss_value,model.params)"
      ],
      "execution_count": 97,
      "outputs": []
    },
    {
      "cell_type": "code",
      "metadata": {
        "id": "VqjkBu3n36wW",
        "colab_type": "code",
        "colab": {
          "base_uri": "https://localhost:8080/",
          "height": 72
        },
        "outputId": "4c4cede9-b605-4e05-d7c3-c087fb44a05f"
      },
      "source": [
        "#create and train model\n",
        "\n",
        "model = LinearRegression(D,K)\n",
        "\n",
        "# Print the params before training\n",
        "print(\"Initial params:\")\n",
        "print(model.W)\n",
        "print(model.b)"
      ],
      "execution_count": 98,
      "outputs": [
        {
          "output_type": "stream",
          "text": [
            "Initial params:\n",
            "<tf.Variable 'Variable:0' shape=(1, 1) dtype=float32, numpy=array([[0.05495463]], dtype=float32)>\n",
            "<tf.Variable 'Variable:0' shape=(1,) dtype=float32, numpy=array([0.], dtype=float32)>\n"
          ],
          "name": "stdout"
        }
      ]
    },
    {
      "cell_type": "code",
      "metadata": {
        "id": "C4jH16kH4NfU",
        "colab_type": "code",
        "colab": {}
      },
      "source": [
        "#store the losses\n",
        "\n",
        "losses=[]\n",
        "\n",
        "#create an optimizer\n",
        "\n",
        "optimizer = tf.keras.optimizers.SGD(learning_rate=0.2)\n",
        "\n",
        "#Run the training loop\n",
        "\n",
        "for i in range(100):\n",
        "  #get the gradients\n",
        "  grads = get_gradient(model,X,Y)\n",
        "\n",
        "  #Do one step of gradient descent: param <- param - learning_rate * grad\n",
        "  optimizer.apply_gradients(zip(grads,model.params))\n",
        "\n",
        "  #store the loss\n",
        "  loss = get_loss(model,X,Y)\n",
        "  losses.append(loss)"
      ],
      "execution_count": 99,
      "outputs": []
    },
    {
      "cell_type": "code",
      "metadata": {
        "id": "ziaKsrbe5bNM",
        "colab_type": "code",
        "colab": {
          "base_uri": "https://localhost:8080/",
          "height": 283
        },
        "outputId": "73ee22f9-c5e1-4a01-d4ee-a0db44f1bd51"
      },
      "source": [
        "plt.plot(losses)"
      ],
      "execution_count": 100,
      "outputs": [
        {
          "output_type": "execute_result",
          "data": {
            "text/plain": [
              "[<matplotlib.lines.Line2D at 0x7f297db30f98>]"
            ]
          },
          "metadata": {
            "tags": []
          },
          "execution_count": 100
        },
        {
          "output_type": "display_data",
          "data": {
            "image/png": "[encoded data removed]",
            "text/plain": [
              "<Figure size 432x288 with 1 Axes>"
            ]
          },
          "metadata": {
            "tags": [],
            "needs_background": "light"
          }
        }
      ]
    },
    {
      "cell_type": "code",
      "metadata": {
        "id": "0zlt7tw49BK-",
        "colab_type": "code",
        "colab": {
          "base_uri": "https://localhost:8080/",
          "height": 283
        },
        "outputId": "eecf6a6f-17e6-45c4-f08a-476833da1a9b"
      },
      "source": [
        "x_axis = np.linspace(X.min(), X.max(),100)\n",
        "y_axis = model.predict(x_axis.reshape(-1,1)).flatten() #model expects 2D input and 2D output, x_axis is 1D,convert it to 2D\n",
        "\n",
        "plt.scatter(X,Y)\n",
        "plt.plot(x_axis,y_axis)"
      ],
      "execution_count": 117,
      "outputs": [
        {
          "output_type": "execute_result",
          "data": {
            "text/plain": [
              "[<matplotlib.lines.Line2D at 0x7f2980fe4e48>]"
            ]
          },
          "metadata": {
            "tags": []
          },
          "execution_count": 117
        },
        {
          "output_type": "display_data",
          "data": {
            "image/png": "[encoded data removed]",
            "text/plain": [
              "<Figure size 432x288 with 1 Axes>"
            ]
          },
          "metadata": {
            "tags": [],
            "needs_background": "light"
          }
        }
      ]
    }
  ]
}