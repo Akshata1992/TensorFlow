{
  "nbformat": 4,
  "nbformat_minor": 0,
  "metadata": {
    "colab": {
      "name": "TF2.0_WebAPI.ipynb",
      "provenance": [],
      "authorship_tag": "ABX9TyNHvnRpgOZaMi6t/fpp5KPG",
      "include_colab_link": true
    },
    "kernelspec": {
      "name": "python3",
      "display_name": "Python 3"
    },
    "accelerator": "GPU"
  },
  "cells": [
    {
      "cell_type": "markdown",
      "metadata": {
        "id": "view-in-github",
        "colab_type": "text"
      },
      "source": [
        "<a href=\"https://colab.research.google.com/github/Akshata1992/TensorFlow/blob/master/TF2_0_WebAPI.ipynb\" target=\"_parent\"><img src=\"https://colab.research.google.com/assets/colab-badge.svg\" alt=\"Open In Colab\"/></a>"
      ]
    },
    {
      "cell_type": "code",
      "metadata": {
        "id": "7NJx62wFFPRB",
        "colab_type": "code",
        "colab": {}
      },
      "source": [
        "import tensorflow as tf"
      ],
      "execution_count": 19,
      "outputs": []
    },
    {
      "cell_type": "code",
      "metadata": {
        "id": "aHURJzUtF4X8",
        "colab_type": "code",
        "colab": {
          "base_uri": "https://localhost:8080/",
          "height": 35
        },
        "outputId": "619549b5-32a7-4130-f570-4c690679c3c9"
      },
      "source": [
        "#import requests library to get ip address of the URL\n",
        "import requests\n",
        "\n",
        "r = requests.get('https://api.ipify.org?format=json')\n",
        "j = r.json()\n",
        "print(j)"
      ],
      "execution_count": 20,
      "outputs": [
        {
          "output_type": "stream",
          "text": [
            "{'ip': '104.155.201.180'}\n"
          ],
          "name": "stdout"
        }
      ]
    },
    {
      "cell_type": "code",
      "metadata": {
        "id": "DavoP7qPF4p7",
        "colab_type": "code",
        "colab": {
          "base_uri": "https://localhost:8080/",
          "height": 35
        },
        "outputId": "a037f542-9638-45ff-94f6-10387f843869"
      },
      "source": [
        "#import all other necessary libraries\n",
        "\n",
        "import numpy as np\n",
        "import matplotlib.pyplot as plt\n",
        "\n",
        "from tensorflow.keras.layers import Input,Conv2D,Dense,Flatten,Dropout\n",
        "from tensorflow.keras.models import Model\n",
        "\n",
        "print(\"Libraries loaded successfully\")"
      ],
      "execution_count": 21,
      "outputs": [
        {
          "output_type": "stream",
          "text": [
            "Libraries loaded successfully\n"
          ],
          "name": "stdout"
        }
      ]
    },
    {
      "cell_type": "code",
      "metadata": {
        "id": "l75SRRqgF4zW",
        "colab_type": "code",
        "colab": {
          "base_uri": "https://localhost:8080/",
          "height": 54
        },
        "outputId": "1bf27aae-e589-48c5-9593-4ce3ae7485c3"
      },
      "source": [
        "#Load into the dataset\n",
        "mnist = tf.keras.datasets.fashion_mnist\n",
        "\n",
        "(x_train,y_train),(x_test,y_test) = mnist.load_data()\n",
        "x_train,x_test = x_train/255.0,x_test/255.0\n",
        "print(\"Shape of x train: \",x_train.shape)\n",
        "print(\"Shape of y_train: \", y_train.shape)"
      ],
      "execution_count": 22,
      "outputs": [
        {
          "output_type": "stream",
          "text": [
            "Shape of x train:  (60000, 28, 28)\n",
            "Shape of y_train:  (60000,)\n"
          ],
          "name": "stdout"
        }
      ]
    },
    {
      "cell_type": "code",
      "metadata": {
        "id": "sEyQexg7I6nV",
        "colab_type": "code",
        "colab": {
          "base_uri": "https://localhost:8080/",
          "height": 54
        },
        "outputId": "98be2165-34f0-4e52-f683-cbfbf3cb29e8"
      },
      "source": [
        "#as input is 2D!, change the dim to N x D x C to feed it to convolution\n",
        "x_train = np.expand_dims(x_train,-1)\n",
        "x_test = np.expand_dims(x_test,-1)\n",
        "print(\"Shape of x train: \",x_train.shape)\n",
        "print(\"Shape of x_test: \", x_test.shape)"
      ],
      "execution_count": 23,
      "outputs": [
        {
          "output_type": "stream",
          "text": [
            "Shape of x train:  (60000, 28, 28, 1)\n",
            "Shape of x_test:  (10000, 28, 28, 1)\n"
          ],
          "name": "stdout"
        }
      ]
    },
    {
      "cell_type": "code",
      "metadata": {
        "id": "VmX3sEBlJi7h",
        "colab_type": "code",
        "colab": {}
      },
      "source": [
        "#create our model\n",
        "\n",
        "i = Input(shape=x_train[0].shape)\n",
        "x = Conv2D(32,(3,3),strides = 2,activation='relu')(i)\n",
        "x = Conv2D(64,(3,3),strides = 2,activation='relu')(x)\n",
        "x = Conv2D(128,(3,3),strides = 2,activation='relu')(x)\n",
        "x = Flatten()(x)\n",
        "x = Dropout(0.2)(x)\n",
        "x = Dense(512,activation='relu')(x)\n",
        "x = Dropout(0.2)(x)\n",
        "x = Dense(10, activation='softmax')(x)\n",
        "\n",
        "model = Model(i,x)"
      ],
      "execution_count": 24,
      "outputs": []
    },
    {
      "cell_type": "code",
      "metadata": {
        "id": "7mN726hWJjQZ",
        "colab_type": "code",
        "colab": {
          "base_uri": "https://localhost:8080/",
          "height": 563
        },
        "outputId": "cfa8673a-cac6-43a9-a028-8537f1108359"
      },
      "source": [
        "#compile and train the model\n",
        "\n",
        "model.compile(optimizer='adam',loss='sparse_categorical_crossentropy',metrics=['accuracy'])\n",
        "\n",
        "r = model.fit(x_train,y_train,validation_data=(x_test,y_test),epochs=15)"
      ],
      "execution_count": 27,
      "outputs": [
        {
          "output_type": "stream",
          "text": [
            "Epoch 1/15\n",
            "1875/1875 [==============================] - 10s 5ms/step - loss: 0.1635 - accuracy: 0.9376 - val_loss: 0.3311 - val_accuracy: 0.8988\n",
            "Epoch 2/15\n",
            "1875/1875 [==============================] - 9s 5ms/step - loss: 0.1514 - accuracy: 0.9418 - val_loss: 0.3498 - val_accuracy: 0.8977\n",
            "Epoch 3/15\n",
            "1875/1875 [==============================] - 9s 5ms/step - loss: 0.1460 - accuracy: 0.9441 - val_loss: 0.3166 - val_accuracy: 0.9025\n",
            "Epoch 4/15\n",
            "1875/1875 [==============================] - 9s 5ms/step - loss: 0.1379 - accuracy: 0.9475 - val_loss: 0.3447 - val_accuracy: 0.8991\n",
            "Epoch 5/15\n",
            "1875/1875 [==============================] - 10s 5ms/step - loss: 0.1300 - accuracy: 0.9494 - val_loss: 0.3510 - val_accuracy: 0.8960\n",
            "Epoch 6/15\n",
            "1875/1875 [==============================] - 10s 5ms/step - loss: 0.1232 - accuracy: 0.9537 - val_loss: 0.3615 - val_accuracy: 0.9003\n",
            "Epoch 7/15\n",
            "1875/1875 [==============================] - 10s 5ms/step - loss: 0.1186 - accuracy: 0.9547 - val_loss: 0.3539 - val_accuracy: 0.9016\n",
            "Epoch 8/15\n",
            "1875/1875 [==============================] - 9s 5ms/step - loss: 0.1116 - accuracy: 0.9571 - val_loss: 0.3837 - val_accuracy: 0.8965\n",
            "Epoch 9/15\n",
            "1875/1875 [==============================] - 10s 5ms/step - loss: 0.1089 - accuracy: 0.9588 - val_loss: 0.3709 - val_accuracy: 0.8999\n",
            "Epoch 10/15\n",
            "1875/1875 [==============================] - 10s 5ms/step - loss: 0.1032 - accuracy: 0.9614 - val_loss: 0.3904 - val_accuracy: 0.9042\n",
            "Epoch 11/15\n",
            "1875/1875 [==============================] - 10s 5ms/step - loss: 0.1037 - accuracy: 0.9602 - val_loss: 0.4007 - val_accuracy: 0.9004\n",
            "Epoch 12/15\n",
            "1875/1875 [==============================] - 9s 5ms/step - loss: 0.0952 - accuracy: 0.9643 - val_loss: 0.4042 - val_accuracy: 0.8983\n",
            "Epoch 13/15\n",
            "1875/1875 [==============================] - 10s 5ms/step - loss: 0.0923 - accuracy: 0.9647 - val_loss: 0.4300 - val_accuracy: 0.9015\n",
            "Epoch 14/15\n",
            "1875/1875 [==============================] - 9s 5ms/step - loss: 0.0927 - accuracy: 0.9654 - val_loss: 0.4196 - val_accuracy: 0.8999\n",
            "Epoch 15/15\n",
            "1875/1875 [==============================] - 9s 5ms/step - loss: 0.0886 - accuracy: 0.9665 - val_loss: 0.4816 - val_accuracy: 0.8999\n"
          ],
          "name": "stdout"
        }
      ]
    },
    {
      "cell_type": "code",
      "metadata": {
        "id": "pU3LZFAxJjZX",
        "colab_type": "code",
        "colab": {
          "base_uri": "https://localhost:8080/",
          "height": 255
        },
        "outputId": "a50efe63-5945-42e6-fbfe-4c0c61fb85a8"
      },
      "source": [
        "#create temporary directory to save the model\n",
        "import tempfile,os\n",
        "\n",
        "MODEL_DIR = tempfile.gettempdir()\n",
        "version = 1\n",
        "export_path = os.path.join(MODEL_DIR,str(version))\n",
        "print(export_path)\n",
        "\n",
        "#check folder already exists\n",
        "if os.path.isdir(export_path):\n",
        "  print(\"Dir already exists!\")\n",
        "  !rm -r {export_path}\n",
        "\n",
        "tf.saved_model.save(model,export_path)\n",
        "\n",
        "print('\\nSaved model:')\n",
        "!ls -l"
      ],
      "execution_count": 31,
      "outputs": [
        {
          "output_type": "stream",
          "text": [
            "/tmp/1\n",
            "WARNING:tensorflow:From /usr/local/lib/python3.6/dist-packages/tensorflow/python/training/tracking/tracking.py:111: Model.state_updates (from tensorflow.python.keras.engine.training) is deprecated and will be removed in a future version.\n",
            "Instructions for updating:\n",
            "This property should not be used in TensorFlow 2.0, as updates are applied automatically.\n",
            "WARNING:tensorflow:From /usr/local/lib/python3.6/dist-packages/tensorflow/python/training/tracking/tracking.py:111: Layer.updates (from tensorflow.python.keras.engine.base_layer) is deprecated and will be removed in a future version.\n",
            "Instructions for updating:\n",
            "This property should not be used in TensorFlow 2.0, as updates are applied automatically.\n",
            "INFO:tensorflow:Assets written to: /tmp/1/assets\n",
            "\n",
            "Saved model:\n",
            "total 4\n",
            "drwxr-xr-x 1 root root 4096 Jul 30 16:30 sample_data\n"
          ],
          "name": "stdout"
        }
      ]
    },
    {
      "cell_type": "code",
      "metadata": {
        "id": "7EORf8FgJjif",
        "colab_type": "code",
        "colab": {
          "base_uri": "https://localhost:8080/",
          "height": 1000
        },
        "outputId": "99b1c4d8-00e8-4926-b025-0f1a6b0b9d5b"
      },
      "source": [
        "!saved_model_cli show --dir {export_path} --all"
      ],
      "execution_count": 32,
      "outputs": [
        {
          "output_type": "stream",
          "text": [
            "\n",
            "MetaGraphDef with tag-set: 'serve' contains the following SignatureDefs:\n",
            "\n",
            "signature_def['__saved_model_init_op']:\n",
            "  The given SavedModel SignatureDef contains the following input(s):\n",
            "  The given SavedModel SignatureDef contains the following output(s):\n",
            "    outputs['__saved_model_init_op'] tensor_info:\n",
            "        dtype: DT_INVALID\n",
            "        shape: unknown_rank\n",
            "        name: NoOp\n",
            "  Method name is: \n",
            "\n",
            "signature_def['serving_default']:\n",
            "  The given SavedModel SignatureDef contains the following input(s):\n",
            "    inputs['input_3'] tensor_info:\n",
            "        dtype: DT_FLOAT\n",
            "        shape: (-1, 28, 28, 1)\n",
            "        name: serving_default_input_3:0\n",
            "  The given SavedModel SignatureDef contains the following output(s):\n",
            "    outputs['dense_5'] tensor_info:\n",
            "        dtype: DT_FLOAT\n",
            "        shape: (-1, 10)\n",
            "        name: StatefulPartitionedCall:0\n",
            "  Method name is: tensorflow/serving/predict\n",
            "WARNING: Logging before flag parsing goes to stderr.\n",
            "W0820 14:26:22.348167 139690788169600 deprecation.py:506] From /usr/local/lib/python2.7/dist-packages/tensorflow_core/python/ops/resource_variable_ops.py:1786: calling __init__ (from tensorflow.python.ops.resource_variable_ops) with constraint is deprecated and will be removed in a future version.\n",
            "Instructions for updating:\n",
            "If using Keras pass *_constraint arguments to layers.\n",
            "\n",
            "Defined Functions:\n",
            "  Function Name: '__call__'\n",
            "    Option #1\n",
            "      Callable with:\n",
            "        Argument #1\n",
            "          inputs: TensorSpec(shape=(None, 28, 28, 1), dtype=tf.float32, name=u'inputs')\n",
            "        Argument #2\n",
            "          DType: bool\n",
            "          Value: False\n",
            "        Argument #3\n",
            "          DType: NoneType\n",
            "          Value: None\n",
            "    Option #2\n",
            "      Callable with:\n",
            "        Argument #1\n",
            "          input_3: TensorSpec(shape=(None, 28, 28, 1), dtype=tf.float32, name=u'input_3')\n",
            "        Argument #2\n",
            "          DType: bool\n",
            "          Value: False\n",
            "        Argument #3\n",
            "          DType: NoneType\n",
            "          Value: None\n",
            "    Option #3\n",
            "      Callable with:\n",
            "        Argument #1\n",
            "          input_3: TensorSpec(shape=(None, 28, 28, 1), dtype=tf.float32, name=u'input_3')\n",
            "        Argument #2\n",
            "          DType: bool\n",
            "          Value: True\n",
            "        Argument #3\n",
            "          DType: NoneType\n",
            "          Value: None\n",
            "    Option #4\n",
            "      Callable with:\n",
            "        Argument #1\n",
            "          inputs: TensorSpec(shape=(None, 28, 28, 1), dtype=tf.float32, name=u'inputs')\n",
            "        Argument #2\n",
            "          DType: bool\n",
            "          Value: True\n",
            "        Argument #3\n",
            "          DType: NoneType\n",
            "          Value: None\n",
            "\n",
            "  Function Name: '_default_save_signature'\n",
            "    Option #1\n",
            "      Callable with:\n",
            "        Argument #1\n",
            "          input_3: TensorSpec(shape=(None, 28, 28, 1), dtype=tf.float32, name=u'input_3')\n",
            "\n",
            "  Function Name: 'call_and_return_all_conditional_losses'\n",
            "    Option #1\n",
            "      Callable with:\n",
            "        Argument #1\n",
            "          inputs: TensorSpec(shape=(None, 28, 28, 1), dtype=tf.float32, name=u'inputs')\n",
            "        Argument #2\n",
            "          DType: bool\n",
            "          Value: True\n",
            "        Argument #3\n",
            "          DType: NoneType\n",
            "          Value: None\n",
            "    Option #2\n",
            "      Callable with:\n",
            "        Argument #1\n",
            "          inputs: TensorSpec(shape=(None, 28, 28, 1), dtype=tf.float32, name=u'inputs')\n",
            "        Argument #2\n",
            "          DType: bool\n",
            "          Value: False\n",
            "        Argument #3\n",
            "          DType: NoneType\n",
            "          Value: None\n",
            "    Option #3\n",
            "      Callable with:\n",
            "        Argument #1\n",
            "          input_3: TensorSpec(shape=(None, 28, 28, 1), dtype=tf.float32, name=u'input_3')\n",
            "        Argument #2\n",
            "          DType: bool\n",
            "          Value: False\n",
            "        Argument #3\n",
            "          DType: NoneType\n",
            "          Value: None\n",
            "    Option #4\n",
            "      Callable with:\n",
            "        Argument #1\n",
            "          input_3: TensorSpec(shape=(None, 28, 28, 1), dtype=tf.float32, name=u'input_3')\n",
            "        Argument #2\n",
            "          DType: bool\n",
            "          Value: True\n",
            "        Argument #3\n",
            "          DType: NoneType\n",
            "          Value: None\n"
          ],
          "name": "stdout"
        }
      ]
    },
    {
      "cell_type": "code",
      "metadata": {
        "id": "Vg_X1cyzJjyv",
        "colab_type": "code",
        "colab": {
          "base_uri": "https://localhost:8080/",
          "height": 690
        },
        "outputId": "c6be7426-2e7b-4060-8123-c8b7ee853775"
      },
      "source": [
        "!echo \"deb http://storage.googleapis.com/tensorflow-serving-apt stable tensorflow-model-server tensorflow-model-server-universal\" | tee /etc/apt/sources.list.d/tensorflow-serving.list && \\\n",
        "curl https://storage.googleapis.com/tensorflow-serving-apt/tensorflow-serving.release.pub.gpg | apt-key add -\n",
        "!apt update"
      ],
      "execution_count": 33,
      "outputs": [
        {
          "output_type": "stream",
          "text": [
            "deb http://storage.googleapis.com/tensorflow-serving-apt stable tensorflow-model-server tensorflow-model-server-universal\n",
            "  % Total    % Received % Xferd  Average Speed   Time    Time     Time  Current\n",
            "                                 Dload  Upload   Total   Spent    Left  Speed\n",
            "\r  0     0    0     0    0     0      0      0 --:--:-- --:--:-- --:--:--     0\r100  2943  100  2943    0     0  12061      0 --:--:-- --:--:-- --:--:-- 12061\n",
            "OK\n",
            "Get:1 https://cloud.r-project.org/bin/linux/ubuntu bionic-cran35/ InRelease [3,626 B]\n",
            "Get:2 http://storage.googleapis.com/tensorflow-serving-apt stable InRelease [3,012 B]\n",
            "Ign:3 https://developer.download.nvidia.com/compute/cuda/repos/ubuntu1804/x86_64  InRelease\n",
            "Ign:4 https://developer.download.nvidia.com/compute/machine-learning/repos/ubuntu1804/x86_64  InRelease\n",
            "Get:5 https://developer.download.nvidia.com/compute/cuda/repos/ubuntu1804/x86_64  Release [697 B]\n",
            "Hit:6 https://developer.download.nvidia.com/compute/machine-learning/repos/ubuntu1804/x86_64  Release\n",
            "Get:7 https://developer.download.nvidia.com/compute/cuda/repos/ubuntu1804/x86_64  Release.gpg [836 B]\n",
            "Hit:8 http://archive.ubuntu.com/ubuntu bionic InRelease\n",
            "Get:10 http://archive.ubuntu.com/ubuntu bionic-updates InRelease [88.7 kB]\n",
            "Get:11 http://security.ubuntu.com/ubuntu bionic-security InRelease [88.7 kB]\n",
            "Get:12 http://storage.googleapis.com/tensorflow-serving-apt stable/tensorflow-model-server amd64 Packages [341 B]\n",
            "Hit:13 http://ppa.launchpad.net/graphics-drivers/ppa/ubuntu bionic InRelease\n",
            "Ign:14 https://developer.download.nvidia.com/compute/cuda/repos/ubuntu1804/x86_64  Packages\n",
            "Get:14 https://developer.download.nvidia.com/compute/cuda/repos/ubuntu1804/x86_64  Packages [255 kB]\n",
            "Get:15 http://storage.googleapis.com/tensorflow-serving-apt stable/tensorflow-model-server-universal amd64 Packages [349 B]\n",
            "Get:16 http://ppa.launchpad.net/marutter/c2d4u3.5/ubuntu bionic InRelease [15.4 kB]\n",
            "Get:17 http://archive.ubuntu.com/ubuntu bionic-backports InRelease [74.6 kB]\n",
            "Get:18 http://security.ubuntu.com/ubuntu bionic-security/main amd64 Packages [1,043 kB]\n",
            "Get:19 http://archive.ubuntu.com/ubuntu bionic-updates/restricted amd64 Packages [117 kB]\n",
            "Get:20 http://archive.ubuntu.com/ubuntu bionic-updates/multiverse amd64 Packages [27.4 kB]\n",
            "Get:21 http://archive.ubuntu.com/ubuntu bionic-updates/universe amd64 Packages [1,418 kB]\n",
            "Get:22 http://ppa.launchpad.net/marutter/c2d4u3.5/ubuntu bionic/main Sources [1,857 kB]\n",
            "Get:23 http://archive.ubuntu.com/ubuntu bionic-updates/main amd64 Packages [1,341 kB]\n",
            "Get:24 http://security.ubuntu.com/ubuntu bionic-security/restricted amd64 Packages [101 kB]\n",
            "Get:25 http://security.ubuntu.com/ubuntu bionic-security/multiverse amd64 Packages [9,834 B]\n",
            "Get:26 http://security.ubuntu.com/ubuntu bionic-security/universe amd64 Packages [890 kB]\n",
            "Get:27 http://ppa.launchpad.net/marutter/c2d4u3.5/ubuntu bionic/main amd64 Packages [896 kB]\n",
            "Fetched 8,231 kB in 6s (1,378 kB/s)\n",
            "Reading package lists... Done\n",
            "Building dependency tree       \n",
            "Reading state information... Done\n",
            "60 packages can be upgraded. Run 'apt list --upgradable' to see them.\n"
          ],
          "name": "stdout"
        }
      ]
    },
    {
      "cell_type": "code",
      "metadata": {
        "id": "tMLbOsYnJj7O",
        "colab_type": "code",
        "colab": {
          "base_uri": "https://localhost:8080/",
          "height": 345
        },
        "outputId": "577df285-1341-4c79-de94-15ae4cbbe663"
      },
      "source": [
        "!apt-get install tensorflow-model-server"
      ],
      "execution_count": 35,
      "outputs": [
        {
          "output_type": "stream",
          "text": [
            "Reading package lists... Done\n",
            "Building dependency tree       \n",
            "Reading state information... Done\n",
            "The following package was automatically installed and is no longer required:\n",
            "  libnvidia-common-440\n",
            "Use 'apt autoremove' to remove it.\n",
            "The following NEW packages will be installed:\n",
            "  tensorflow-model-server\n",
            "0 upgraded, 1 newly installed, 0 to remove and 60 not upgraded.\n",
            "Need to get 210 MB of archives.\n",
            "After this operation, 0 B of additional disk space will be used.\n",
            "Get:1 http://storage.googleapis.com/tensorflow-serving-apt stable/tensorflow-model-server amd64 tensorflow-model-server all 2.3.0 [210 MB]\n",
            "Fetched 210 MB in 5s (38.9 MB/s)\n",
            "Selecting previously unselected package tensorflow-model-server.\n",
            "(Reading database ... 144487 files and directories currently installed.)\n",
            "Preparing to unpack .../tensorflow-model-server_2.3.0_all.deb ...\n",
            "Unpacking tensorflow-model-server (2.3.0) ...\n",
            "Setting up tensorflow-model-server (2.3.0) ...\n"
          ],
          "name": "stdout"
        }
      ]
    },
    {
      "cell_type": "code",
      "metadata": {
        "id": "qsZapC7zJkDl",
        "colab_type": "code",
        "colab": {}
      },
      "source": [
        "os.environ[\"MODEL_DIR\"] = MODEL_DIR "
      ],
      "execution_count": 39,
      "outputs": []
    },
    {
      "cell_type": "code",
      "metadata": {
        "id": "vAp7oeppR6JF",
        "colab_type": "code",
        "colab": {
          "base_uri": "https://localhost:8080/",
          "height": 35
        },
        "outputId": "b0428736-54d1-4789-8674-47ee3a1f1269"
      },
      "source": [
        "%%bash --bg \n",
        "nohup tensorflow_model_server \\\n",
        "  --rest_api_port=8501 \\\n",
        "  --model_name=fashion_model \\\n",
        "  --model_base_path=\"${MODEL_DIR}\" >server.log 2>&1"
      ],
      "execution_count": 41,
      "outputs": [
        {
          "output_type": "stream",
          "text": [
            "Starting job # 2 in a separate thread.\n"
          ],
          "name": "stdout"
        }
      ]
    },
    {
      "cell_type": "code",
      "metadata": {
        "id": "xORbRn3sR6Nv",
        "colab_type": "code",
        "colab": {
          "base_uri": "https://localhost:8080/",
          "height": 219
        },
        "outputId": "6c473e07-4ab2-4086-aaf9-1d15ba6a6e11"
      },
      "source": [
        "!tail server.log"
      ],
      "execution_count": 42,
      "outputs": [
        {
          "output_type": "stream",
          "text": [
            "To enable them in other operations, rebuild TensorFlow with the appropriate compiler flags.\n",
            "2020-08-20 14:41:51.630042: I external/org_tensorflow/tensorflow/cc/saved_model/loader.cc:199] Restoring SavedModel bundle.\n",
            "2020-08-20 14:41:51.675390: I external/org_tensorflow/tensorflow/cc/saved_model/loader.cc:183] Running initialization op on SavedModel bundle at path: /tmp/1\n",
            "2020-08-20 14:41:51.683190: I external/org_tensorflow/tensorflow/cc/saved_model/loader.cc:303] SavedModel load for tags { serve }; Status: success: OK. Took 75560 microseconds.\n",
            "2020-08-20 14:41:51.684517: I tensorflow_serving/servables/tensorflow/saved_model_warmup_util.cc:59] No warmup data file found at /tmp/1/assets.extra/tf_serving_warmup_requests\n",
            "2020-08-20 14:41:51.684632: I tensorflow_serving/core/loader_harness.cc:87] Successfully loaded servable version {name: fashion_model version: 1}\n",
            "2020-08-20 14:41:51.685858: I tensorflow_serving/model_servers/server.cc:367] Running gRPC ModelServer at 0.0.0.0:8500 ...\n",
            "[warn] getaddrinfo: address family for nodename not supported\n",
            "2020-08-20 14:41:51.686809: I tensorflow_serving/model_servers/server.cc:387] Exporting HTTP/REST API at:localhost:8501 ...\n",
            "[evhttp_server.cc : 238] NET_LOG: Entering the event loop ...\n"
          ],
          "name": "stdout"
        }
      ]
    },
    {
      "cell_type": "code",
      "metadata": {
        "id": "W9zjEMEJR6Hc",
        "colab_type": "code",
        "colab": {
          "base_uri": "https://localhost:8080/",
          "height": 199
        },
        "outputId": "453b8f3b-8f4d-4fd3-d883-a7685baf7622"
      },
      "source": [
        "# Label mapping\n",
        "labels = '''T-shirt/top\n",
        "Trouser\n",
        "Pullover\n",
        "Dress\n",
        "Coat\n",
        "Sandal\n",
        "Shirt\n",
        "Sneaker\n",
        "Bag\n",
        "Ankle boot'''.split(\"\\n\")\n",
        "labels"
      ],
      "execution_count": 44,
      "outputs": [
        {
          "output_type": "execute_result",
          "data": {
            "text/plain": [
              "['T-shirt/top',\n",
              " 'Trouser',\n",
              " 'Pullover',\n",
              " 'Dress',\n",
              " 'Coat',\n",
              " 'Sandal',\n",
              " 'Shirt',\n",
              " 'Sneaker',\n",
              " 'Bag',\n",
              " 'Ankle boot']"
            ]
          },
          "metadata": {
            "tags": []
          },
          "execution_count": 44
        }
      ]
    },
    {
      "cell_type": "code",
      "metadata": {
        "id": "xHQJPI__XYzv",
        "colab_type": "code",
        "colab": {
          "base_uri": "https://localhost:8080/",
          "height": 301
        },
        "outputId": "cb5d1655-1066-484f-86c4-f66cabfff49c"
      },
      "source": [
        "def show(idx, title):\n",
        "  plt.figure()\n",
        "  plt.imshow(x_test[idx].reshape(28,28), cmap='gray')\n",
        "  plt.axis('off')\n",
        "  plt.title('\\n\\n{}'.format(title), fontdict={'size': 16})\n",
        "\n",
        "i = np.random.randint(0, len(x_test))\n",
        "show(i, labels[y_test[i]])"
      ],
      "execution_count": 45,
      "outputs": [
        {
          "output_type": "display_data",
          "data": {
            "image/png": "[encoded data removed]",
            "text/plain": [
              "<Figure size 432x288 with 1 Axes>"
            ]
          },
          "metadata": {
            "tags": [],
            "needs_background": "light"
          }
        }
      ]
    },
    {
      "cell_type": "code",
      "metadata": {
        "id": "BbVjbWNpXfbb",
        "colab_type": "code",
        "colab": {
          "base_uri": "https://localhost:8080/",
          "height": 55
        },
        "outputId": "a5a064c6-a849-4723-c7cd-31ae7555f603"
      },
      "source": [
        "#Format some data to pass to the server\n",
        "import json\n",
        "data = json.dumps({'signature':'serving_default','instances':x_test[3:7].tolist()})\n",
        "print(data)"
      ],
      "execution_count": 50,
      "outputs": [
        {
          "output_type": "stream",
          "text": [
            "{\"signature\": \"serving_default\", \"instances\": [[[[0.0], [0.0], [0.0], [0.0], [0.0], [0.0], [0.0], [0.0], [0.0], [0.08235294117647059], [0.4823529411764706], [0.4235294117647059], [0.38823529411764707], [0.38823529411764707], [0.32941176470588235], [0.3254901960784314], [0.33725490196078434], [0.3607843137254902], [0.27450980392156865], [0.023529411764705882], [0.0], [0.0], [0.0], [0.0], [0.0], [0.0], [0.0], [0.0]], [[0.0], [0.0], [0.0], [0.0], [0.0], [0.0], [0.0], [0.0], [0.0], [0.41568627450980394], [0.9725490196078431], [0.9019607843137255], [0.803921568627451], [0.9372549019607843], [0.8313725490196079], [0.6823529411764706], [0.8431372549019608], [0.8117647058823529], [0.5450980392156862], [0.36470588235294116], [0.0], [0.0], [0.0], [0.0], [0.0], [0.0], [0.0], [0.0]], [[0.0], [0.0], [0.0], [0.0], [0.0], [0.0], [0.0], [0.0], [0.0], [0.4980392156862745], [0.8470588235294118], [0.8352941176470589], [0.803921568627451], [0.8392156862745098], [0.8392156862745098], [0.7568627450980392], [0.8980392156862745], [0.788235294117647], [0.6470588235294118], [0.38823529411764707], [0.0], [0.0], [0.0], [0.0], [0.0], [0.0], [0.0], [0.0]], [[0.0], [0.0], [0.0], [0.0], [0.0], [0.0], [0.0], [0.0], [0.0], [0.5725490196078431], [0.7647058823529411], [0.8980392156862745], [0.8313725490196079], [0.8941176470588236], [0.8431372549019608], [0.8196078431372549], [0.9019607843137255], [0.8392156862745098], [0.6431372549019608], [0.21176470588235294], [0.0], [0.0], [0.0], [0.0], [0.0], [0.0], [0.0], [0.0]], [[0.0], [0.0], [0.0], [0.0], [0.0], [0.0], [0.0], [0.0], [0.0], [0.45098039215686275], [0.7568627450980392], [0.8901960784313725], [0.8196078431372549], [0.8509803921568627], [0.8196078431372549], [0.8313725490196079], [0.807843137254902], [0.8784313725490196], [0.6470588235294118], [0.054901960784313725], [0.0], [0.0], [0.0], [0.0], [0.0], [0.0], [0.0], [0.0]], [[0.0], [0.0], [0.0], [0.0], [0.0], [0.0], [0.0], [0.0], [0.0], [0.4470588235294118], [0.5803921568627451], [0.7137254901960784], [0.7176470588235294], [0.8549019607843137], [0.8862745098039215], [0.8941176470588236], [0.7450980392156863], [0.807843137254902], [0.5137254901960784], [0.0392156862745098], [0.0], [0.0], [0.0], [0.0], [0.0], [0.0], [0.0], [0.0]], [[0.0], [0.0], [0.0], [0.0], [0.0], [0.0], [0.0], [0.0], [0.0], [0.4392156862745098], [0.4666666666666667], [0.41568627450980394], [0.4117647058823529], [0.7411764705882353], [0.8156862745098039], [0.984313725490196], [0.6470588235294118], [0.5450980392156862], [0.40784313725490196], [0.06274509803921569], [0.0], [0.0], [0.0], [0.0], [0.0], [0.0], [0.0], [0.0]], [[0.0], [0.0], [0.0], [0.0], [0.0], [0.0], [0.0], [0.0], [0.0], [0.2784313725490196], [0.5411764705882353], [0.3058823529411765], [0.2784313725490196], [0.5764705882352941], [0.36470588235294116], [0.9647058823529412], [0.5333333333333333], [0.4235294117647059], [0.3411764705882353], [0.027450980392156862], [0.0], [0.0], [0.0], [0.0], [0.0], [0.0], [0.0], [0.0]], [[0.0], [0.0], [0.0], [0.0], [0.0], [0.0], [0.0], [0.0], [0.0], [0.3176470588235294], [0.4980392156862745], [0.4], [0.3333333333333333], [0.5764705882352941], [0.3803921568627451], [0.9921568627450981], [0.5411764705882353], [0.39215686274509803], [0.3254901960784314], [0.058823529411764705], [0.0], [0.0], [0.0], [0.0], [0.0], [0.0], [0.0], [0.0]], [[0.0], [0.0], [0.0], [0.0], [0.0], [0.0], [0.0], [0.0], [0.0], [0.27450980392156865], [0.5372549019607843], [0.39215686274509803], [0.43529411764705883], [0.592156862745098], [0.19215686274509805], [0.9882352941176471], [0.5764705882352941], [0.41568627450980394], [0.33725490196078434], [0.0392156862745098], [0.0], [0.0], [0.0], [0.0], [0.0], [0.0], [0.0], [0.0]], [[0.0], [0.0], [0.0], [0.0], [0.0], [0.0], [0.0], [0.0], [0.0], [0.23921568627450981], [0.5294117647058824], [0.34509803921568627], [0.39215686274509803], [0.5450980392156862], [0.0], [0.9882352941176471], [0.611764705882353], [0.3803921568627451], [0.30980392156862746], [0.0196078431372549], [0.0], [0.0], [0.0], [0.0], [0.0], [0.0], [0.0], [0.0]], [[0.0], [0.0], [0.0], [0.0], [0.0], [0.0], [0.0], [0.0], [0.0], [0.22745098039215686], [0.5098039215686274], [0.3411764705882353], [0.38823529411764707], [0.4980392156862745], [0.0], [0.9568627450980393], [0.6352941176470588], [0.33725490196078434], [0.29411764705882354], [0.00784313725490196], [0.0], [0.0], [0.0], [0.0], [0.0], [0.0], [0.0], [0.0]], [[0.0], [0.0], [0.0], [0.0], [0.0], [0.0], [0.0], [0.0], [0.0], [0.14901960784313725], [0.5058823529411764], [0.34901960784313724], [0.4117647058823529], [0.4666666666666667], [0.0], [0.9058823529411765], [0.6392156862745098], [0.3058823529411765], [0.19215686274509805], [0.0], [0.0], [0.0], [0.0], [0.0], [0.0], [0.0], [0.0], [0.0]], [[0.0], [0.0], [0.0], [0.0], [0.0], [0.0], [0.0], [0.0], [0.0], [0.050980392156862744], [0.5294117647058824], [0.35294117647058826], [0.45098039215686275], [0.48627450980392156], [0.0], [0.9215686274509803], [0.596078431372549], [0.25098039215686274], [0.2], [0.0], [0.0], [0.0], [0.0], [0.0], [0.0], [0.0], [0.0], [0.0]], [[0.0], [0.0], [0.0], [0.0], [0.0], [0.0], [0.0], [0.0], [0.0], [0.011764705882352941], [0.49019607843137253], [0.3058823529411765], [0.4588235294117647], [0.5568627450980392], [0.0], [0.8784313725490196], [0.6235294117647059], [0.2235294117647059], [0.12549019607843137], [0.0], [0.0], [0.0], [0.0], [0.0], [0.0], [0.0], [0.0], [0.0]], [[0.0], [0.0], [0.0], [0.0], [0.0], [0.0], [0.0], [0.0], [0.0], [0.0], [0.4470588235294118], [0.3137254901960784], [0.4745098039215686], [0.4745098039215686], [0.0], [0.7333333333333333], [0.6588235294117647], [0.24313725490196078], [0.1568627450980392], [0.0], [0.0], [0.0], [0.0], [0.0], [0.0], [0.0], [0.0], [0.0]], [[0.0], [0.0], [0.0], [0.0], [0.0], [0.0], [0.0], [0.0], [0.0], [0.0], [0.4627450980392157], [0.3843137254901961], [0.49019607843137253], [0.4235294117647059], [0.0], [0.5686274509803921], [0.6784313725490196], [0.2980392156862745], [0.20784313725490197], [0.0], [0.0], [0.0], [0.0], [0.0], [0.0], [0.0], [0.0], [0.0]], [[0.0], [0.0], [0.0], [0.0], [0.0], [0.0], [0.0], [0.0], [0.0], [0.0], [0.5372549019607843], [0.3176470588235294], [0.6705882352941176], [0.26666666666666666], [0.0], [0.37254901960784315], [0.7803921568627451], [0.19215686274509805], [0.2], [0.0], [0.0], [0.0], [0.0], [0.0], [0.0], [0.0], [0.0], [0.0]], [[0.0], [0.0], [0.0], [0.0], [0.0], [0.0], [0.0], [0.0], [0.0], [0.0], [0.7843137254901961], [0.6745098039215687], [0.9607843137254902], [0.03137254901960784], [0.0], [0.2], [0.8509803921568627], [0.611764705882353], [0.43137254901960786], [0.0], [0.0], [0.0], [0.0], [0.0], [0.0], [0.0], [0.0], [0.0]], [[0.0], [0.0], [0.0], [0.0], [0.0], [0.0], [0.0], [0.0], [0.0], [0.00392156862745098], [0.796078431372549], [0.8196078431372549], [0.8196078431372549], [0.0], [0.0], [0.1843137254901961], [0.9098039215686274], [0.8274509803921568], [0.6313725490196078], [0.0], [0.0], [0.0], [0.0], [0.0], [0.0], [0.0], [0.0], [0.0]], [[0.0], [0.0], [0.0], [0.0], [0.0], [0.0], [0.0], [0.0], [0.0], [0.0], [0.8196078431372549], [0.8549019607843137], [0.8274509803921568], [0.0], [0.0], [0.20784313725490197], [0.9254901960784314], [0.8862745098039215], [0.6470588235294118], [0.0], [0.0], [0.0], [0.0], [0.0], [0.0], [0.0], [0.0], [0.0]], [[0.0], [0.0], [0.0], [0.0], [0.0], [0.0], [0.0], [0.0], [0.0], [0.0], [0.796078431372549], [0.8745098039215686], [0.8117647058823529], [0.0], [0.0], [0.18823529411764706], [0.9137254901960784], [0.9058823529411765], [0.5529411764705883], [0.0], [0.0], [0.0], [0.0], [0.0], [0.0], [0.0], [0.0], [0.0]], [[0.0], [0.0], [0.0], [0.0], [0.0], [0.0], [0.0], [0.0], [0.0], [0.0], [0.7607843137254902], [0.9058823529411765], [0.7803921568627451], [0.0], [0.0], [0.16470588235294117], [0.9176470588235294], [0.9137254901960784], [0.5333333333333333], [0.0], [0.0], [0.0], [0.0], [0.0], [0.0], [0.0], [0.0], [0.0]], [[0.0], [0.0], [0.0], [0.0], [0.0], [0.0], [0.0], [0.0], [0.0], [0.0], [0.8549019607843137], [0.9176470588235294], [0.788235294117647], [0.0], [0.0], [0.11764705882352941], [0.9098039215686274], [0.9215686274509803], [0.4980392156862745], [0.0], [0.0], [0.0], [0.0], [0.0], [0.0], [0.0], [0.0], [0.0]], [[0.0], [0.0], [0.0], [0.0], [0.0], [0.0], [0.0], [0.0], [0.0], [0.0], [0.7647058823529411], [0.9411764705882353], [0.7725490196078432], [0.0], [0.0], [0.050980392156862744], [0.8980392156862745], [0.9372549019607843], [0.4117647058823529], [0.0], [0.0], [0.0], [0.0], [0.0], [0.0], [0.0], [0.0], [0.0]], [[0.0], [0.0], [0.0], [0.0], [0.0], [0.0], [0.0], [0.0], [0.0], [0.0], [0.47843137254901963], [0.9686274509803922], [0.7647058823529411], [0.0], [0.0], [0.0], [0.8431372549019608], [0.9294117647058824], [0.2901960784313726], [0.0], [0.0], [0.0], [0.0], [0.0], [0.0], [0.0], [0.0], [0.0]], [[0.0], [0.0], [0.0], [0.0], [0.0], [0.0], [0.0], [0.0], [0.0], [0.0], [0.4470588235294118], [1.0], [0.7529411764705882], [0.0], [0.0], [0.0], [0.8784313725490196], [0.9725490196078431], [0.1803921568627451], [0.0], [0.0], [0.0], [0.0], [0.0], [0.0], [0.0], [0.0], [0.0]], [[0.0], [0.0], [0.0], [0.0], [0.0], [0.0], [0.0], [0.0], [0.0], [0.0], [0.0784313725490196], [0.6823529411764706], [0.396078431372549], [0.0], [0.0], [0.0], [0.5725490196078431], [0.5725490196078431], [0.00392156862745098], [0.0], [0.0], [0.0], [0.0], [0.0], [0.0], [0.0], [0.0], [0.0]]], [[[0.0], [0.0], [0.0], [0.00784313725490196], [0.0], [0.00392156862745098], [0.00392156862745098], [0.0], [0.0], [0.0], [0.0], [0.2235294117647059], [0.2627450980392157], [0.28627450980392155], [0.2980392156862745], [0.2980392156862745], [0.3254901960784314], [0.24313725490196078], [0.0], [0.0], [0.0], [0.0], [0.0], [0.0], [0.0], [0.0], [0.0], [0.0]], [[0.0], [0.0], [0.0], [0.00392156862745098], [0.00392156862745098], [0.00392156862745098], [0.0], [0.0], [0.050980392156862744], [0.30980392156862746], [0.5019607843137255], [0.788235294117647], [0.6352941176470588], [0.6313725490196078], [0.6784313725490196], [0.7529411764705882], [0.6745098039215687], [0.7098039215686275], [0.7215686274509804], [0.4235294117647059], [0.11764705882352941], [0.0], [0.0], [0.0], [0.0], [0.0], [0.0], [0.0]], [[0.0], [0.0], [0.0], [0.0], [0.00392156862745098], [0.0], [0.0], [0.4], [0.5450980392156862], [0.5568627450980392], [0.403921568627451], [0.45098039215686275], [0.6352941176470588], [0.6039215686274509], [0.6470588235294118], [0.6], [0.5450980392156862], [0.5058823529411764], [0.5882352941176471], [0.5411764705882353], [0.6705882352941176], [0.6313725490196078], [0.10196078431372549], [0.0], [0.0], [0.0], [0.0], [0.0]], [[0.0], [0.0], [0.0], [0.00392156862745098], [0.0], [0.0], [0.41568627450980394], [0.48627450980392156], [0.4235294117647059], [0.403921568627451], [0.41568627450980394], [0.36470588235294116], [0.39215686274509803], [0.7058823529411765], [0.611764705882353], [0.5764705882352941], [0.5411764705882353], [0.3333333333333333], [0.615686274509804], [0.4470588235294118], [0.48627450980392156], [0.6039215686274509], [0.615686274509804], [0.0], [0.0], [0.0], [0.0], [0.0]], [[0.0], [0.0], [0.0], [0.00784313725490196], [0.0], [0.11372549019607843], [0.5254901960784314], [0.396078431372549], [0.44313725490196076], [0.4235294117647059], [0.3803921568627451], [0.4549019607843137], [0.3176470588235294], [0.5725490196078431], [0.7176470588235294], [0.6431372549019608], [0.43529411764705883], [0.5725490196078431], [0.5137254901960784], [0.47843137254901963], [0.5176470588235295], [0.5686274509803921], [0.6627450980392157], [0.36470588235294116], [0.0], [0.00392156862745098], [0.0], [0.0]], [[0.0], [0.0], [0.0], [0.0], [0.0], [0.2549019607843137], [0.5137254901960784], [0.4117647058823529], [0.396078431372549], [0.4235294117647059], [0.39215686274509803], [0.40784313725490196], [0.3803921568627451], [0.2901960784313726], [0.807843137254902], [0.6823529411764706], [0.45098039215686275], [0.5882352941176471], [0.4235294117647059], [0.4666666666666667], [0.5725490196078431], [0.596078431372549], [0.6352941176470588], [0.5529411764705883], [0.0], [0.0], [0.0], [0.0]], [[0.0], [0.0], [0.0], [0.0], [0.0], [0.4235294117647059], [0.4823529411764706], [0.4392156862745098], [0.41568627450980394], [0.3843137254901961], [0.39215686274509803], [0.396078431372549], [0.43529411764705883], [0.2823529411764706], [0.5333333333333333], [0.5176470588235295], [0.4392156862745098], [0.45098039215686275], [0.42745098039215684], [0.5568627450980392], [0.5882352941176471], [0.6274509803921569], [0.6352941176470588], [0.7647058823529411], [0.0], [0.0], [0.0], [0.0]], [[0.0], [0.0], [0.0], [0.0], [0.0], [0.5294117647058824], [0.47843137254901963], [0.4666666666666667], [0.4392156862745098], [0.3254901960784314], [0.36470588235294116], [0.3803921568627451], [0.41568627450980394], [0.45098039215686275], [0.3568627450980392], [0.42745098039215684], [0.3254901960784314], [0.42745098039215684], [0.49019607843137253], [0.6470588235294118], [0.5490196078431373], [0.7568627450980392], [0.6274509803921569], [0.6901960784313725], [0.023529411764705882], [0.0], [0.0], [0.0]], [[0.0], [0.0], [0.0], [0.0], [0.09019607843137255], [0.5294117647058824], [0.5176470588235295], [0.5843137254901961], [0.40784313725490196], [0.3058823529411765], [0.3764705882352941], [0.3803921568627451], [0.403921568627451], [0.4235294117647059], [0.4235294117647059], [0.45098039215686275], [0.32941176470588235], [0.4470588235294118], [0.5843137254901961], [0.6196078431372549], [0.5764705882352941], [0.8196078431372549], [0.6274509803921569], [0.6980392156862745], [0.20392156862745098], [0.0], [0.0], [0.0]], [[0.0], [0.0], [0.0], [0.0], [0.2235294117647059], [0.48627450980392156], [0.5137254901960784], [0.6274509803921569], [0.403921568627451], [0.3764705882352941], [0.396078431372549], [0.42745098039215684], [0.42745098039215684], [0.43529411764705883], [0.4235294117647059], [0.4470588235294118], [0.41568627450980394], [0.44313725490196076], [0.611764705882353], [0.6392156862745098], [0.611764705882353], [0.7686274509803922], [0.6549019607843137], [0.6823529411764706], [0.3333333333333333], [0.0], [0.0], [0.0]], [[0.0], [0.0], [0.0], [0.0], [0.33725490196078434], [0.4549019607843137], [0.49411764705882355], [0.6274509803921569], [0.5176470588235295], [0.4], [0.3764705882352941], [0.40784313725490196], [0.4196078431372549], [0.3843137254901961], [0.36470588235294116], [0.4823529411764706], [0.4549019607843137], [0.4392156862745098], [0.5843137254901961], [0.6274509803921569], [0.7098039215686275], [0.7294117647058823], [0.6352941176470588], [0.6352941176470588], [0.4823529411764706], [0.0], [0.0], [0.0]], [[0.0], [0.0], [0.0], [0.0], [0.4392156862745098], [0.4470588235294118], [0.4392156862745098], [0.6549019607843137], [0.5725490196078431], [0.39215686274509803], [0.39215686274509803], [0.396078431372549], [0.4196078431372549], [0.3764705882352941], [0.39215686274509803], [0.49411764705882355], [0.403921568627451], [0.47058823529411764], [0.5529411764705883], [0.6196078431372549], [0.6549019607843137], [0.7333333333333333], [0.5764705882352941], [0.5803921568627451], [0.6666666666666666], [0.0], [0.0], [0.0]], [[0.0], [0.0], [0.0], [0.0], [0.48627450980392156], [0.4627450980392157], [0.396078431372549], [0.7725490196078432], [0.34901960784313724], [0.396078431372549], [0.39215686274509803], [0.3764705882352941], [0.4235294117647059], [0.403921568627451], [0.4235294117647059], [0.47843137254901963], [0.4196078431372549], [0.4980392156862745], [0.5450980392156862], [0.5882352941176471], [0.4666666666666667], [0.7686274509803922], [0.5686274509803921], [0.5568627450980392], [0.7019607843137254], [0.0], [0.0], [0.0]], [[0.0], [0.0], [0.0], [0.0], [0.5137254901960784], [0.45098039215686275], [0.3803921568627451], [0.7764705882352941], [0.1843137254901961], [0.4235294117647059], [0.3764705882352941], [0.3764705882352941], [0.41568627450980394], [0.4666666666666667], [0.4], [0.47058823529411764], [0.403921568627451], [0.4823529411764706], [0.5490196078431373], [0.5882352941176471], [0.3176470588235294], [0.807843137254902], [0.5725490196078431], [0.5294117647058824], [0.7607843137254902], [0.0], [0.0], [0.0]], [[0.0], [0.0], [0.0], [0.01568627450980392], [0.5333333333333333], [0.4627450980392157], [0.3843137254901961], [0.7568627450980392], [0.08235294117647059], [0.42745098039215684], [0.3764705882352941], [0.41568627450980394], [0.4], [0.5058823529411764], [0.39215686274509803], [0.4666666666666667], [0.4], [0.4627450980392157], [0.5529411764705883], [0.6], [0.17647058823529413], [0.8470588235294118], [0.5803921568627451], [0.5450980392156862], [0.803921568627451], [0.047058823529411764], [0.0], [0.0]], [[0.0], [0.0], [0.0], [0.09411764705882353], [0.5372549019607843], [0.4588235294117647], [0.396078431372549], [0.7333333333333333], [0.09803921568627451], [0.44313725490196076], [0.3607843137254902], [0.4392156862745098], [0.3686274509803922], [0.47058823529411764], [0.4117647058823529], [0.4980392156862745], [0.3803921568627451], [0.45098039215686275], [0.5568627450980392], [0.5882352941176471], [0.07450980392156863], [0.8352941176470589], [0.5803921568627451], [0.5137254901960784], [0.8], [0.1411764705882353], [0.0], [0.0]], [[0.0], [0.0], [0.0], [0.1568627450980392], [0.5529411764705883], [0.42745098039215684], [0.4588235294117647], [0.6196078431372549], [0.047058823529411764], [0.48627450980392156], [0.35294117647058826], [0.4549019607843137], [0.3764705882352941], [0.4588235294117647], [0.44313725490196076], [0.5333333333333333], [0.3686274509803922], [0.43529411764705883], [0.5764705882352941], [0.6392156862745098], [0.12156862745098039], [0.7490196078431373], [0.5725490196078431], [0.5254901960784314], [0.807843137254902], [0.22745098039215686], [0.0], [0.0]], [[0.0], [0.0], [0.0], [0.15294117647058825], [0.5058823529411764], [0.4], [0.5764705882352941], [0.4666666666666667], [0.0], [0.47058823529411764], [0.35294117647058826], [0.4666666666666667], [0.396078431372549], [0.4549019607843137], [0.41568627450980394], [0.4980392156862745], [0.4], [0.4470588235294118], [0.5725490196078431], [0.7058823529411765], [0.0784313725490196], [0.5725490196078431], [0.6235294117647059], [0.5058823529411764], [0.8], [0.27450980392156865], [0.0], [0.0]], [[0.0], [0.0], [0.0], [0.22745098039215686], [0.49411764705882355], [0.43529411764705883], [0.6352941176470588], [0.396078431372549], [0.08235294117647059], [0.5176470588235295], [0.34901960784313724], [0.4823529411764706], [0.4235294117647059], [0.41568627450980394], [0.4], [0.49411764705882355], [0.43529411764705883], [0.4549019607843137], [0.5529411764705883], [0.6980392156862745], [0.19607843137254902], [0.4392156862745098], [0.6627450980392157], [0.5411764705882353], [0.6431372549019608], [0.32941176470588235], [0.0], [0.0]], [[0.0], [0.0], [0.0], [0.4235294117647059], [0.5254901960784314], [0.5254901960784314], [0.7254901960784313], [0.32941176470588235], [0.28627450980392155], [0.4823529411764706], [0.3411764705882353], [0.47843137254901963], [0.43529411764705883], [0.4], [0.41568627450980394], [0.5019607843137255], [0.4470588235294118], [0.42745098039215684], [0.5254901960784314], [0.6823529411764706], [0.3803921568627451], [0.3843137254901961], [0.6274509803921569], [0.5764705882352941], [0.6862745098039216], [0.5294117647058824], [0.0], [0.0]], [[0.0], [0.0], [0.0], [0.3803921568627451], [0.5568627450980392], [0.6627450980392157], [0.7764705882352941], [0.1450980392156863], [0.32941176470588235], [0.4196078431372549], [0.3803921568627451], [0.47843137254901963], [0.4392156862745098], [0.42745098039215684], [0.4392156862745098], [0.49411764705882355], [0.4], [0.3764705882352941], [0.5137254901960784], [0.6745098039215687], [0.5019607843137255], [0.2], [0.996078431372549], [0.6588235294117647], [0.6431372549019608], [0.43529411764705883], [0.0], [0.0]], [[0.0], [0.0], [0.0], [0.0], [0.0], [0.047058823529411764], [0.1803921568627451], [0.00784313725490196], [0.4666666666666667], [0.4], [0.42745098039215684], [0.4823529411764706], [0.3764705882352941], [0.4549019607843137], [0.47843137254901963], [0.5176470588235295], [0.41568627450980394], [0.41568627450980394], [0.5058823529411764], [0.592156862745098], [0.7215686274509804], [0.10196078431372549], [0.0784313725490196], [0.03137254901960784], [0.0], [0.0], [0.0], [0.0]], [[0.0], [0.0], [0.0], [0.0], [0.0], [0.0], [0.0], [0.050980392156862744], [0.5372549019607843], [0.396078431372549], [0.4470588235294118], [0.39215686274509803], [0.41568627450980394], [0.5254901960784314], [0.5294117647058824], [0.5058823529411764], [0.40784313725490196], [0.43529411764705883], [0.4823529411764706], [0.592156862745098], [0.7607843137254902], [0.2901960784313726], [0.0], [0.0], [0.0], [0.0], [0.0], [0.0]], [[0.0], [0.0], [0.0], [0.0], [0.00392156862745098], [0.011764705882352941], [0.0], [0.28627450980392155], [0.5176470588235295], [0.396078431372549], [0.40784313725490196], [0.4], [0.5490196078431373], [0.4235294117647059], [0.4235294117647059], [0.5137254901960784], [0.41568627450980394], [0.4666666666666667], [0.44313725490196076], [0.5568627450980392], [0.6549019607843137], [0.5294117647058824], [0.0], [0.00392156862745098], [0.0], [0.0], [0.0], [0.0]], [[0.0], [0.0], [0.0], [0.0], [0.0], [0.0], [0.0], [0.4392156862745098], [0.4627450980392157], [0.4196078431372549], [0.40784313725490196], [0.5450980392156862], [0.42745098039215684], [0.3803921568627451], [0.4823529411764706], [0.5411764705882353], [0.4196078431372549], [0.4980392156862745], [0.47058823529411764], [0.5333333333333333], [0.6313725490196078], [0.6235294117647059], [0.0], [0.0], [0.00392156862745098], [0.0], [0.0], [0.0]], [[0.0], [0.0], [0.0], [0.0], [0.0], [0.011764705882352941], [0.0], [0.5568627450980392], [0.5803921568627451], [0.4392156862745098], [0.4117647058823529], [0.396078431372549], [0.3254901960784314], [0.49019607843137253], [0.4823529411764706], [0.5607843137254902], [0.40784313725490196], [0.45098039215686275], [0.39215686274509803], [0.49411764705882355], [0.6588235294117647], [0.6980392156862745], [0.027450980392156862], [0.0], [0.00784313725490196], [0.0], [0.0], [0.0]], [[0.0], [0.0], [0.0], [0.0], [0.0], [0.00784313725490196], [0.0], [0.03529411764705882], [0.49411764705882355], [0.7215686274509804], [0.7843137254901961], [0.6549019607843137], [0.6392156862745098], [0.6705882352941176], [0.5882352941176471], [0.6549019607843137], [0.611764705882353], [0.6823529411764706], [0.7725490196078432], [0.7137254901960784], [0.6352941176470588], [0.23921568627450981], [0.0], [0.0], [0.0], [0.0], [0.0], [0.0]], [[0.0], [0.0], [0.0], [0.0], [0.0], [0.0], [0.0], [0.0], [0.0], [0.0], [0.11764705882352941], [0.2823529411764706], [0.37254901960784315], [0.42745098039215684], [0.43529411764705883], [0.43529411764705883], [0.41568627450980394], [0.396078431372549], [0.2784313725490196], [0.047058823529411764], [0.0], [0.0], [0.0], [0.0], [0.0], [0.0], [0.0], [0.0]]], [[[0.0], [0.0], [0.0], [0.0], [0.0], [0.0], [0.0], [0.0], [0.0], [0.0], [0.7529411764705882], [0.7372549019607844], [0.7098039215686275], [0.7411764705882353], [0.615686274509804], [0.6470588235294118], [0.7372549019607844], [0.6901960784313725], [0.7019607843137254], [0.7098039215686275], [0.0], [0.0], [0.0], [0.0], [0.0], [0.0], [0.0], [0.0]], [[0.0], [0.0], [0.0], [0.0], [0.0], [0.0], [0.0], [0.0], [0.0], [0.054901960784313725], [0.9215686274509803], [0.8352941176470589], [0.8352941176470589], [0.8745098039215686], [0.8823529411764706], [0.8509803921568627], [0.8392156862745098], [0.8], [0.8274509803921568], [0.7411764705882353], [0.0], [0.0], [0.0], [0.0], [0.0], [0.0], [0.0], [0.0]], [[0.0], [0.0], [0.0], [0.0], [0.0], [0.0], [0.0], [0.0], [0.0], [0.08627450980392157], [0.9176470588235294], [0.8509803921568627], [0.8274509803921568], [0.8509803921568627], [0.7843137254901961], [0.796078431372549], [0.8509803921568627], [0.796078431372549], [0.7019607843137254], [0.6666666666666666], [0.0], [0.0], [0.0], [0.0], [0.0], [0.0], [0.0], [0.0]], [[0.0], [0.0], [0.0], [0.0], [0.0], [0.0], [0.0], [0.0], [0.0], [0.4117647058823529], [0.9882352941176471], [0.803921568627451], [0.8196078431372549], [0.8588235294117647], [0.7568627450980392], [0.7647058823529411], [0.8313725490196079], [0.8117647058823529], [0.7607843137254902], [0.8], [0.2], [0.0], [0.0], [0.0], [0.0], [0.0], [0.0], [0.0]], [[0.0], [0.0], [0.0], [0.0], [0.0], [0.0], [0.0], [0.0], [0.0], [0.8], [0.8941176470588236], [0.7215686274509804], [0.807843137254902], [0.8431372549019608], [0.8666666666666667], [0.8313725490196079], [0.8196078431372549], [0.7803921568627451], [0.7450980392156863], [0.8901960784313725], [0.4117647058823529], [0.0], [0.0], [0.0], [0.0], [0.0], [0.0], [0.0]], [[0.0], [0.0], [0.0], [0.0], [0.0], [0.0], [0.0], [0.0], [0.0], [0.9568627450980393], [0.7529411764705882], [0.7568627450980392], [0.8313725490196079], [0.8509803921568627], [0.8235294117647058], [0.8470588235294118], [0.8470588235294118], [0.7607843137254902], [0.6862745098039216], [0.8823529411764706], [0.5137254901960784], [0.0], [0.0], [0.0], [0.0], [0.0], [0.0], [0.0]], [[0.0], [0.0], [0.0], [0.0], [0.0], [0.0], [0.0], [0.0], [0.09803921568627451], [0.9686274509803922], [0.6666666666666666], [0.7529411764705882], [0.8235294117647058], [0.8274509803921568], [0.9372549019607843], [0.9058823529411765], [0.8588235294117647], [0.7803921568627451], [0.7019607843137254], [0.8509803921568627], [0.48627450980392156], [0.0], [0.0], [0.0], [0.0], [0.0], [0.0], [0.0]], [[0.0], [0.0], [0.0], [0.0], [0.0], [0.0], [0.0], [0.0], [0.19215686274509805], [0.9254901960784314], [0.6666666666666666], [0.7568627450980392], [0.788235294117647], [0.8627450980392157], [0.7333333333333333], [0.9058823529411765], [0.9019607843137255], [0.807843137254902], [0.7098039215686275], [0.8352941176470589], [0.4549019607843137], [0.0], [0.0], [0.0], [0.0], [0.0], [0.0], [0.0]], [[0.0], [0.0], [0.0], [0.0], [0.0], [0.0], [0.0], [0.0], [0.3411764705882353], [0.9098039215686274], [0.6235294117647059], [0.7568627450980392], [0.7843137254901961], [0.9607843137254902], [0.0], [0.8117647058823529], [0.9607843137254902], [0.7843137254901961], [0.6901960784313725], [0.8235294117647058], [0.42745098039215684], [0.0], [0.0], [0.0], [0.0], [0.0], [0.0], [0.0]], [[0.0], [0.0], [0.0], [0.0], [0.0], [0.0], [0.0], [0.0], [0.4980392156862745], [0.8666666666666667], [0.6666666666666666], [0.7411764705882353], [0.8470588235294118], [0.8823529411764706], [0.0], [0.592156862745098], [0.996078431372549], [0.7764705882352941], [0.7176470588235294], [0.8196078431372549], [0.403921568627451], [0.0], [0.0], [0.0], [0.0], [0.0], [0.0], [0.0]], [[0.0], [0.0], [0.0], [0.0], [0.0], [0.0], [0.0], [0.0], [0.6392156862745098], [0.807843137254902], [0.6901960784313725], [0.7254901960784313], [0.9490196078431372], [0.5725490196078431], [0.0], [0.20784313725490197], [1.0], [0.788235294117647], [0.7176470588235294], [0.803921568627451], [0.39215686274509803], [0.0], [0.0], [0.0], [0.0], [0.0], [0.0], [0.0]], [[0.0], [0.0], [0.0], [0.0], [0.0], [0.0], [0.0], [0.0], [0.6941176470588235], [0.7725490196078432], [0.6862745098039216], [0.7411764705882353], [0.9686274509803922], [0.13333333333333333], [0.0], [0.0], [0.9921568627450981], [0.796078431372549], [0.7058823529411765], [0.7803921568627451], [0.3803921568627451], [0.0], [0.0], [0.0], [0.0], [0.0], [0.0], [0.0]], [[0.0], [0.0], [0.0], [0.0], [0.0], [0.0], [0.0], [0.0], [0.6745098039215687], [0.7294117647058823], [0.6823529411764706], [0.7803921568627451], [0.8745098039215686], [0.0], [0.0], [0.0], [0.9176470588235294], [0.8], [0.6352941176470588], [0.7803921568627451], [0.41568627450980394], [0.0], [0.0], [0.0], [0.0], [0.0], [0.0], [0.0]], [[0.0], [0.0], [0.0], [0.0], [0.0], [0.0], [0.0], [0.0], [0.6039215686274509], [0.6941176470588235], [0.6823529411764706], [0.8274509803921568], [0.592156862745098], [0.0], [0.0], [0.0], [0.8235294117647058], [0.792156862745098], [0.5529411764705883], [0.7058823529411765], [0.4235294117647059], [0.0], [0.0], [0.0], [0.0], [0.0], [0.0], [0.0]], [[0.0], [0.0], [0.0], [0.0], [0.0], [0.0], [0.0], [0.0], [0.5529411764705883], [0.6705882352941176], [0.6862745098039216], [0.9647058823529412], [0.27450980392156865], [0.0], [0.00784313725490196], [0.0], [0.6941176470588235], [0.8], [0.4745098039215686], [0.5686274509803921], [0.5333333333333333], [0.0], [0.0], [0.0], [0.0], [0.0], [0.0], [0.0]], [[0.0], [0.0], [0.0], [0.0], [0.0], [0.0], [0.0], [0.0], [0.5294117647058824], [0.7019607843137254], [0.7490196078431373], [0.9725490196078431], [0.10980392156862745], [0.0], [0.0196078431372549], [0.0], [0.5254901960784314], [0.8235294117647058], [0.4196078431372549], [0.5568627450980392], [0.4666666666666667], [0.0], [0.0], [0.0], [0.0], [0.0], [0.0], [0.0]], [[0.0], [0.0], [0.0], [0.0], [0.0], [0.0], [0.0], [0.0], [0.35294117647058826], [0.7411764705882353], [0.7764705882352941], [0.8274509803921568], [0.01568627450980392], [0.0], [0.011764705882352941], [0.0], [0.23137254901960785], [0.9568627450980393], [0.4627450980392157], [0.6470588235294118], [0.4823529411764706], [0.0], [0.0], [0.0], [0.0], [0.0], [0.0], [0.0]], [[0.0], [0.0], [0.0], [0.0], [0.0], [0.0], [0.0], [0.0], [0.011764705882352941], [0.7333333333333333], [0.7647058823529411], [0.8823529411764706], [0.27450980392156865], [0.0], [0.01568627450980392], [0.0], [0.0784313725490196], [0.8431372549019608], [0.4549019607843137], [0.6549019607843137], [0.5372549019607843], [0.0], [0.0], [0.0], [0.0], [0.0], [0.0], [0.0]], [[0.0], [0.0], [0.0], [0.0], [0.0], [0.0], [0.0], [0.0], [0.0], [0.7137254901960784], [0.7803921568627451], [0.8666666666666667], [0.6392156862745098], [0.0], [0.0], [0.0], [0.0], [0.9333333333333333], [0.5764705882352941], [0.7019607843137254], [0.5058823529411764], [0.0], [0.0], [0.0], [0.0], [0.0], [0.0], [0.0]], [[0.0], [0.0], [0.0], [0.0], [0.0], [0.0], [0.0], [0.0], [0.0], [0.7607843137254902], [0.8156862745098039], [0.8352941176470589], [0.8509803921568627], [0.0], [0.0], [0.0], [0.0], [0.9647058823529412], [0.7725490196078432], [0.796078431372549], [0.5411764705882353], [0.0], [0.0], [0.0], [0.0], [0.0], [0.0], [0.0]], [[0.0], [0.0], [0.0], [0.0], [0.0], [0.0], [0.0], [0.0], [0.0], [0.5294117647058824], [0.8823529411764706], [0.807843137254902], [0.788235294117647], [0.0], [0.0], [0.0], [0.0], [0.8431372549019608], [0.8431372549019608], [0.8666666666666667], [0.5490196078431373], [0.0], [0.0], [0.0], [0.0], [0.0], [0.0], [0.0]], [[0.0], [0.0], [0.0], [0.0], [0.0], [0.0], [0.0], [0.0], [0.0], [0.10588235294117647], [0.8588235294117647], [0.8], [0.8509803921568627], [0.13333333333333333], [0.0], [0.0], [0.0], [0.792156862745098], [0.8431372549019608], [0.8784313725490196], [0.4823529411764706], [0.0], [0.0], [0.0], [0.0], [0.0], [0.0], [0.0]], [[0.0], [0.0], [0.0], [0.0], [0.0], [0.0], [0.0], [0.0], [0.0], [0.0], [0.796078431372549], [0.8392156862745098], [0.8745098039215686], [0.34509803921568627], [0.0], [0.0], [0.0], [0.7686274509803922], [0.8588235294117647], [0.9019607843137255], [0.5098039215686274], [0.0], [0.0], [0.0], [0.0], [0.0], [0.0], [0.0]], [[0.0], [0.0], [0.0], [0.0], [0.0], [0.0], [0.0], [0.0], [0.00392156862745098], [0.0], [0.5215686274509804], [0.8509803921568627], [0.8509803921568627], [0.6549019607843137], [0.0], [0.0], [0.0], [0.7215686274509804], [0.8666666666666667], [0.9098039215686274], [0.5176470588235295], [0.0], [0.0], [0.0], [0.0], [0.0], [0.0], [0.0]], [[0.0], [0.0], [0.0], [0.0], [0.0], [0.0], [0.0], [0.0], [0.011764705882352941], [0.0], [0.23137254901960785], [0.8549019607843137], [0.8196078431372549], [0.7647058823529411], [0.0], [0.0], [0.0], [0.6627450980392157], [0.8941176470588236], [0.8392156862745098], [0.5882352941176471], [0.0], [0.0], [0.0], [0.0], [0.0], [0.0], [0.0]], [[0.0], [0.0], [0.0], [0.0], [0.0], [0.0], [0.0], [0.0], [0.00392156862745098], [0.0], [0.0], [0.7490196078431373], [0.807843137254902], [0.8588235294117647], [0.1843137254901961], [0.0], [0.0], [0.6078431372549019], [0.9294117647058824], [0.8745098039215686], [0.5215686274509804], [0.0], [0.0], [0.0], [0.0], [0.0], [0.0], [0.0]], [[0.0], [0.0], [0.0], [0.0], [0.0], [0.0], [0.0], [0.0], [0.0], [0.0], [0.0], [0.6313725490196078], [0.9333333333333333], [0.9176470588235294], [0.4549019607843137], [0.0], [0.0], [0.6588235294117647], [0.9647058823529412], [0.9294117647058824], [0.611764705882353], [0.0], [0.0], [0.0], [0.0], [0.0], [0.0], [0.0]], [[0.0], [0.0], [0.0], [0.0], [0.0], [0.0], [0.0], [0.0], [0.0], [0.0], [0.0], [0.14901960784313725], [0.5372549019607843], [0.5176470588235295], [0.20784313725490197], [0.0], [0.0], [0.3176470588235294], [0.5686274509803921], [0.5058823529411764], [0.24313725490196078], [0.0], [0.0], [0.0], [0.0], [0.0], [0.0], [0.0]]], [[[0.0], [0.0], [0.0], [0.0], [0.0], [0.0], [0.0], [0.0], [0.00392156862745098], [0.0], [0.0], [0.06666666666666667], [0.0], [0.13725490196078433], [0.21568627450980393], [0.20392156862745098], [0.17647058823529413], [0.0], [0.0], [0.0], [0.0], [0.0], [0.0], [0.0], [0.0], [0.0], [0.0], [0.0]], [[0.0], [0.0], [0.0], [0.0], [0.0], [0.0], [0.0], [0.011764705882352941], [0.0], [0.00392156862745098], [0.9803921568627451], [1.0], [0.9607843137254902], [0.996078431372549], [0.9333333333333333], [0.9568627450980393], [0.9372549019607843], [0.5411764705882353], [0.0], [0.0], [0.0], [0.0], [0.0], [0.0], [0.0], [0.0], [0.0], [0.0]], [[0.0], [0.0], [0.0], [0.0], [0.0], [0.0], [0.0], [0.0], [0.0], [0.34509803921568627], [0.48627450980392156], [0.6666666666666666], [0.996078431372549], [0.5411764705882353], [0.7333333333333333], [1.0], [0.7333333333333333], [0.12549019607843137], [0.01568627450980392], [0.0], [0.00392156862745098], [0.0], [0.0], [0.0], [0.0], [0.0], [0.0], [0.0]], [[0.0], [0.0], [0.0], [0.0], [0.0], [0.0], [0.0], [0.0], [0.0], [0.32941176470588235], [0.3843137254901961], [0.0], [0.7137254901960784], [0.8235294117647058], [0.9529411764705882], [1.0], [0.1450980392156863], [0.0], [0.0], [0.0], [0.0], [0.0], [0.0], [0.0], [0.0], [0.0], [0.0], [0.0]], [[0.0], [0.0], [0.0], [0.0], [0.00392156862745098], [0.0], [0.023529411764705882], [0.2196078431372549], [0.2823529411764706], [0.3568627450980392], [0.5215686274509804], [0.16862745098039217], [0.0], [0.9411764705882353], [0.8549019607843137], [0.0], [0.0], [0.15294117647058825], [0.1803921568627451], [0.0784313725490196], [0.09803921568627451], [0.00784313725490196], [0.0], [0.0], [0.0], [0.0], [0.0], [0.0]], [[0.0], [0.0], [0.0], [0.0], [0.0], [0.0], [0.18823529411764706], [0.42745098039215684], [0.27450980392156865], [0.21176470588235294], [0.17254901960784313], [0.2784313725490196], [0.2196078431372549], [0.25098039215686274], [0.058823529411764705], [0.0784313725490196], [0.11372549019607843], [0.10980392156862745], [0.22745098039215686], [0.2235294117647059], [0.2], [0.0784313725490196], [0.0], [0.0], [0.0], [0.0], [0.0], [0.0]], [[0.0], [0.0], [0.0], [0.0], [0.0], [0.0], [0.2549019607843137], [0.28627450980392155], [0.3215686274509804], [0.19215686274509805], [0.22745098039215686], [0.20392156862745098], [0.12549019607843137], [0.32941176470588235], [0.27058823529411763], [0.09803921568627451], [0.19607843137254902], [0.24705882352941178], [0.1803921568627451], [0.10588235294117647], [0.09803921568627451], [0.11372549019607843], [0.0], [0.0], [0.0], [0.0], [0.0], [0.0]], [[0.0], [0.0], [0.0], [0.0], [0.0], [0.047058823529411764], [0.3058823529411765], [0.20784313725490197], [0.5137254901960784], [0.1450980392156863], [0.2235294117647059], [0.20392156862745098], [0.0784313725490196], [0.35294117647058826], [0.3058823529411765], [0.0784313725490196], [0.20784313725490197], [0.24313725490196078], [0.1411764705882353], [0.06666666666666667], [0.10588235294117647], [0.15294117647058825], [0.0], [0.0], [0.0], [0.0], [0.0], [0.0]], [[0.0], [0.0], [0.0], [0.0], [0.0], [0.10980392156862745], [0.3333333333333333], [0.11372549019607843], [0.6039215686274509], [0.22745098039215686], [0.1843137254901961], [0.16862745098039217], [0.047058823529411764], [0.2980392156862745], [0.2784313725490196], [0.08235294117647059], [0.13333333333333333], [0.07450980392156863], [0.08235294117647059], [0.07450980392156863], [0.12941176470588237], [0.16862745098039217], [0.027450980392156862], [0.0], [0.0], [0.0], [0.0], [0.0]], [[0.0], [0.0], [0.0], [0.0], [0.0], [0.16862745098039217], [0.30980392156862746], [0.050980392156862744], [0.5372549019607843], [0.2549019607843137], [0.1607843137254902], [0.16470588235294117], [0.0392156862745098], [0.32941176470588235], [0.2627450980392157], [0.050980392156862744], [0.11372549019607843], [0.10980392156862745], [0.07058823529411765], [0.1607843137254902], [0.17647058823529413], [0.11372549019607843], [0.08235294117647059], [0.0], [0.0], [0.0], [0.0], [0.0]], [[0.0], [0.0], [0.0], [0.0], [0.0], [0.20784313725490197], [0.28627450980392155], [0.0392156862745098], [0.5725490196078431], [0.3333333333333333], [0.16862745098039217], [0.16470588235294117], [0.03529411764705882], [0.32941176470588235], [0.24705882352941178], [0.06274509803921569], [0.12156862745098039], [0.09411764705882353], [0.054901960784313725], [0.12941176470588237], [0.11372549019607843], [0.11372549019607843], [0.050980392156862744], [0.0], [0.0], [0.0], [0.0], [0.0]], [[0.0], [0.0], [0.0], [0.0], [0.0], [0.23921568627450981], [0.27450980392156865], [0.00784313725490196], [0.6627450980392157], [0.4], [0.10980392156862745], [0.1843137254901961], [0.058823529411764705], [0.3137254901960784], [0.23529411764705882], [0.0392156862745098], [0.11372549019607843], [0.10196078431372549], [0.0], [0.30196078431372547], [0.10980392156862745], [0.10588235294117647], [0.054901960784313725], [0.0], [0.0], [0.0], [0.0], [0.0]], [[0.0], [0.0], [0.0], [0.0], [0.0], [0.2627450980392157], [0.23529411764705882], [0.011764705882352941], [0.7176470588235294], [0.3058823529411765], [0.17254901960784313], [0.1803921568627451], [0.050980392156862744], [0.29411764705882354], [0.24313725490196078], [0.03529411764705882], [0.09411764705882353], [0.10980392156862745], [0.0], [0.6313725490196078], [0.15294117647058825], [0.050980392156862744], [0.08235294117647059], [0.0], [0.0], [0.0], [0.0], [0.0]], [[0.0], [0.0], [0.0], [0.0], [0.0], [0.2901960784313726], [0.19607843137254902], [0.01568627450980392], [0.8705882352941177], [0.27450980392156865], [0.1450980392156863], [0.1803921568627451], [0.06274509803921569], [0.29411764705882354], [0.2549019607843137], [0.027450980392156862], [0.10196078431372549], [0.06274509803921569], [0.0], [0.9490196078431372], [0.1803921568627451], [0.027450980392156862], [0.09803921568627451], [0.0], [0.0], [0.0], [0.0], [0.0]], [[0.0], [0.0], [0.0], [0.0], [0.0], [0.28627450980392155], [0.1411764705882353], [0.043137254901960784], [1.0], [0.2235294117647059], [0.17254901960784313], [0.21176470588235294], [0.043137254901960784], [0.2901960784313726], [0.24705882352941178], [0.01568627450980392], [0.10196078431372549], [0.023529411764705882], [0.00392156862745098], [0.8549019607843137], [0.28627450980392155], [0.0], [0.10588235294117647], [0.0], [0.0], [0.0], [0.0], [0.0]], [[0.0], [0.0], [0.0], [0.0], [0.03137254901960784], [0.29411764705882354], [0.11372549019607843], [0.09803921568627451], [1.0], [0.2627450980392157], [0.1803921568627451], [0.19607843137254902], [0.023529411764705882], [0.30980392156862746], [0.24705882352941178], [0.03137254901960784], [0.09803921568627451], [0.0], [0.10588235294117647], [0.9568627450980393], [0.396078431372549], [0.0], [0.11372549019607843], [0.0], [0.0], [0.0], [0.0], [0.0]], [[0.0], [0.0], [0.0], [0.0], [0.043137254901960784], [0.29411764705882354], [0.058823529411764705], [0.20784313725490197], [1.0], [0.22745098039215686], [0.15294117647058825], [0.19215686274509805], [0.07058823529411765], [0.2980392156862745], [0.2549019607843137], [0.023529411764705882], [0.10588235294117647], [0.01568627450980392], [0.0], [0.8627450980392157], [0.5411764705882353], [0.0], [0.10980392156862745], [0.011764705882352941], [0.0], [0.0], [0.0], [0.0]], [[0.0], [0.0], [0.0], [0.0], [0.043137254901960784], [0.2901960784313726], [0.0196078431372549], [0.403921568627451], [0.996078431372549], [0.19215686274509805], [0.18823529411764706], [0.1803921568627451], [0.050980392156862744], [0.28627450980392155], [0.2549019607843137], [0.00784313725490196], [0.09803921568627451], [0.0196078431372549], [0.0], [0.8196078431372549], [0.6941176470588235], [0.0], [0.11764705882352941], [0.027450980392156862], [0.0], [0.0], [0.0], [0.0]], [[0.0], [0.0], [0.0], [0.0], [0.06274509803921569], [0.29411764705882354], [0.01568627450980392], [0.4745098039215686], [1.0], [0.1411764705882353], [0.1843137254901961], [0.20392156862745098], [0.06274509803921569], [0.2627450980392157], [0.27058823529411763], [0.00784313725490196], [0.08627450980392157], [0.054901960784313725], [0.0], [0.7450980392156863], [0.7098039215686275], [0.0], [0.10980392156862745], [0.03137254901960784], [0.0], [0.0], [0.0], [0.0]], [[0.0], [0.0], [0.0], [0.0], [0.08627450980392157], [0.3058823529411765], [0.0], [0.5098039215686274], [0.996078431372549], [0.08235294117647059], [0.23137254901960785], [0.22745098039215686], [0.10980392156862745], [0.2901960784313726], [0.2823529411764706], [0.00392156862745098], [0.10588235294117647], [0.09411764705882353], [0.0], [0.6862745098039216], [0.8], [0.0], [0.09411764705882353], [0.0392156862745098], [0.0], [0.0], [0.0], [0.0]], [[0.0], [0.0], [0.0], [0.0], [0.09019607843137255], [0.30196078431372547], [0.0], [0.6078431372549019], [0.8549019607843137], [0.0784313725490196], [0.2235294117647059], [0.20784313725490197], [0.09411764705882353], [0.27450980392156865], [0.28627450980392155], [0.00784313725490196], [0.10588235294117647], [0.08627450980392157], [0.0], [0.5254901960784314], [0.8392156862745098], [0.0], [0.0784313725490196], [0.047058823529411764], [0.0], [0.0], [0.0], [0.0]], [[0.0], [0.0], [0.0], [0.0], [0.09411764705882353], [0.29411764705882354], [0.0], [0.7254901960784313], [0.7450980392156863], [0.08235294117647059], [0.25098039215686274], [0.23137254901960785], [0.12941176470588237], [0.2823529411764706], [0.2823529411764706], [0.01568627450980392], [0.10196078431372549], [0.12156862745098039], [0.0], [0.47843137254901963], [0.8549019607843137], [0.011764705882352941], [0.06666666666666667], [0.06274509803921569], [0.0], [0.0], [0.0], [0.0]], [[0.0], [0.0], [0.0], [0.0], [0.09411764705882353], [0.3176470588235294], [0.0], [0.7607843137254902], [0.615686274509804], [0.07058823529411765], [0.2235294117647059], [0.2196078431372549], [0.11764705882352941], [0.2784313725490196], [0.30196078431372547], [0.01568627450980392], [0.09019607843137255], [0.10196078431372549], [0.0], [0.43529411764705883], [0.8901960784313725], [0.050980392156862744], [0.050980392156862744], [0.07450980392156863], [0.0], [0.0], [0.0], [0.0]], [[0.0], [0.0], [0.0], [0.0], [0.12549019607843137], [0.3058823529411765], [0.0], [0.8862745098039215], [0.5333333333333333], [0.2], [0.3215686274509804], [0.28627450980392155], [0.15294117647058825], [0.29411764705882354], [0.3137254901960784], [0.03137254901960784], [0.10980392156862745], [0.12941176470588237], [0.0], [0.4], [0.9490196078431372], [0.06274509803921569], [0.047058823529411764], [0.07450980392156863], [0.0], [0.0], [0.0], [0.0]], [[0.0], [0.0], [0.0], [0.0], [0.1411764705882353], [0.27450980392156865], [0.011764705882352941], [0.9176470588235294], [0.32941176470588235], [0.20392156862745098], [0.29411764705882354], [0.29411764705882354], [0.2235294117647059], [0.25098039215686274], [0.25882352941176473], [0.07450980392156863], [0.1607843137254902], [0.15294117647058825], [0.03137254901960784], [0.20392156862745098], [0.8549019607843137], [0.17647058823529413], [0.023529411764705882], [0.06666666666666667], [0.0], [0.0], [0.0], [0.0]], [[0.0], [0.0], [0.0], [0.0], [0.13725490196078433], [0.27058823529411763], [0.11372549019607843], [0.9411764705882353], [0.0], [0.0], [0.0], [0.0], [0.0], [0.0], [0.0], [0.0], [0.0], [0.0], [0.0], [0.0], [0.8980392156862745], [0.43529411764705883], [0.0], [0.06666666666666667], [0.0], [0.0], [0.0], [0.0]], [[0.0], [0.0], [0.0], [0.0], [0.25882352941176473], [0.32941176470588235], [0.17647058823529413], [0.45098039215686275], [0.0], [0.0], [0.0], [0.0], [0.0], [0.0], [0.0], [0.0], [0.0], [0.0], [0.0], [0.0], [0.4666666666666667], [0.3058823529411765], [0.09411764705882353], [0.10196078431372549], [0.0], [0.0], [0.0], [0.0]], [[0.0], [0.0], [0.0], [0.0], [0.21176470588235294], [0.2784313725490196], [0.12156862745098039], [0.2], [0.0], [0.0], [0.00392156862745098], [0.0], [0.0], [0.0], [0.0], [0.0], [0.0], [0.0], [0.0], [0.0], [0.1411764705882353], [0.11764705882352941], [0.10588235294117647], [0.10588235294117647], [0.0], [0.0], [0.0], [0.0]]]]}\n"
          ],
          "name": "stdout"
        }
      ]
    },
    {
      "cell_type": "code",
      "metadata": {
        "id": "JuPXbkb-Xf-a",
        "colab_type": "code",
        "colab": {
          "base_uri": "https://localhost:8080/",
          "height": 74
        },
        "outputId": "68edc4c2-950b-46a7-cd01-48bb8554260b"
      },
      "source": [
        "headers = {\"content_type\":\"application/json\"}\n",
        "r = requests.post(\"http://localhost:8501/v1/models/fashion_model:predict\",data=data,headers=headers)\n",
        "j = r.json()\n",
        "print(j.keys())\n",
        "print(j)"
      ],
      "execution_count": 51,
      "outputs": [
        {
          "output_type": "stream",
          "text": [
            "dict_keys(['predictions'])\n",
            "{'predictions': [[0.0, 1.0, 0.0, 0.0, 0.0, 0.0, 0.0, 0.0, 3.61613207e-36, 0.0], [4.09465656e-06, 4.10929e-12, 4.06731537e-08, 8.08386691e-09, 9.13791212e-07, 4.35466848e-13, 0.999995, 4.92370405e-16, 5.83022508e-13, 2.77612216e-13], [2.23716076e-35, 1.0, 0.0, 0.0, 0.0, 0.0, 0.0, 0.0, 5.47242592e-23, 0.0], [1.18287862e-20, 8.776712e-19, 5.51038362e-08, 9.61322321e-19, 1.0, 9.13271666e-25, 6.87377932e-10, 6.0305508e-27, 2.53544403e-18, 1.71619918e-29]]}\n"
          ],
          "name": "stdout"
        }
      ]
    },
    {
      "cell_type": "code",
      "metadata": {
        "id": "zYVdw9MUXgEi",
        "colab_type": "code",
        "colab": {
          "base_uri": "https://localhost:8080/",
          "height": 35
        },
        "outputId": "ea22013c-5f36-444f-c9a9-b3e22acb6391"
      },
      "source": [
        "#It looks like 2D array,lets check\n",
        "pred = np.array(j['predictions'])\n",
        "pred.shape\n",
        "\n",
        "#it is in the form of N x K.\n",
        "#pred[n,k] --> nth sample belonging kth class"
      ],
      "execution_count": 56,
      "outputs": [
        {
          "output_type": "execute_result",
          "data": {
            "text/plain": [
              "(4, 10)"
            ]
          },
          "metadata": {
            "tags": []
          },
          "execution_count": 56
        }
      ]
    },
    {
      "cell_type": "code",
      "metadata": {
        "id": "wQbxC486XfaS",
        "colab_type": "code",
        "colab": {}
      },
      "source": [
        "#Get the highest predicted class\n",
        "pred = pred.argmax(axis=1)"
      ],
      "execution_count": 57,
      "outputs": []
    },
    {
      "cell_type": "code",
      "metadata": {
        "id": "qHVxwDP1bGsP",
        "colab_type": "code",
        "colab": {
          "base_uri": "https://localhost:8080/",
          "height": 35
        },
        "outputId": "ca6875e6-1686-4b50-8027-35a21d241c6d"
      },
      "source": [
        "pred = [labels[i] for i in pred]\n",
        "print(pred)"
      ],
      "execution_count": 59,
      "outputs": [
        {
          "output_type": "stream",
          "text": [
            "['Trouser', 'Shirt', 'Trouser', 'Coat']\n"
          ],
          "name": "stdout"
        }
      ]
    },
    {
      "cell_type": "code",
      "metadata": {
        "id": "xgDCtRNRb3QA",
        "colab_type": "code",
        "colab": {
          "base_uri": "https://localhost:8080/",
          "height": 35
        },
        "outputId": "39e67e6e-b723-4c01-9ec1-43a9d9e98e39"
      },
      "source": [
        "#Get the actual values\n",
        "actual = [labels[i] for i in y_test[3:7]]\n",
        "print(actual)"
      ],
      "execution_count": 61,
      "outputs": [
        {
          "output_type": "stream",
          "text": [
            "['Trouser', 'Shirt', 'Trouser', 'Coat']\n"
          ],
          "name": "stdout"
        }
      ]
    },
    {
      "cell_type": "code",
      "metadata": {
        "id": "jlv590IccUyh",
        "colab_type": "code",
        "colab": {
          "base_uri": "https://localhost:8080/",
          "height": 1000
        },
        "outputId": "eb3deae7-00d7-4407-a097-f362574d45b3"
      },
      "source": [
        "for i in range(0,4):\n",
        "  show(i,f\"True: {actual[i]}, Predicted: {pred[i]}\")"
      ],
      "execution_count": 64,
      "outputs": [
        {
          "output_type": "display_data",
          "data": {
            "image/png": "[encoded data removed]",
            "text/plain": [
              "<Figure size 432x288 with 1 Axes>"
            ]
          },
          "metadata": {
            "tags": [],
            "needs_background": "light"
          }
        },
        {
          "output_type": "display_data",
          "data": {
            "image/png": "[encoded data removed]",
            "text/plain": [
              "<Figure size 432x288 with 1 Axes>"
            ]
          },
          "metadata": {
            "tags": [],
            "needs_background": "light"
          }
        },
        {
          "output_type": "display_data",
          "data": {
            "image/png": "[encoded data removed]",
            "text/plain": [
              "<Figure size 432x288 with 1 Axes>"
            ]
          },
          "metadata": {
            "tags": [],
            "needs_background": "light"
          }
        },
        {
          "output_type": "display_data",
          "data": {
            "image/png": "[encoded data removed]",
            "text/plain": [
              "<Figure size 432x288 with 1 Axes>"
            ]
          },
          "metadata": {
            "tags": [],
            "needs_background": "light"
          }
        }
      ]
    },
    {
      "cell_type": "code",
      "metadata": {
        "id": "fXdhMCBCdr-q",
        "colab_type": "code",
        "colab": {
          "base_uri": "https://localhost:8080/",
          "height": 1000
        },
        "outputId": "c25e9585-37dc-4577-c0fd-d76e6ed67275"
      },
      "source": [
        "headers = {\"content_type\":\"application/json\"}\n",
        "r = requests.post(\"http://localhost:8501/v1/models/fashion_model:predict\",data=data,headers=headers)\n",
        "j = r.json()\n",
        "pred = np.array(j['predictions'])\n",
        "pred = pred.argmax(axis=1)\n",
        "pred = [labels[i] for i in pred]\n",
        "for i in range(0,4):\n",
        "  show(i, f\"True: {actual[i]}, Predicted: {pred[i]}\")"
      ],
      "execution_count": 66,
      "outputs": [
        {
          "output_type": "display_data",
          "data": {
            "image/png": "[encoded data removed]",
            "text/plain": [
              "<Figure size 432x288 with 1 Axes>"
            ]
          },
          "metadata": {
            "tags": [],
            "needs_background": "light"
          }
        },
        {
          "output_type": "display_data",
          "data": {
            "image/png": "[encoded data removed]",
            "text/plain": [
              "<Figure size 432x288 with 1 Axes>"
            ]
          },
          "metadata": {
            "tags": [],
            "needs_background": "light"
          }
        },
        {
          "output_type": "display_data",
          "data": {
            "image/png": "[encoded data removed]",
            "text/plain": [
              "<Figure size 432x288 with 1 Axes>"
            ]
          },
          "metadata": {
            "tags": [],
            "needs_background": "light"
          }
        },
        {
          "output_type": "display_data",
          "data": {
            "image/png": "[encoded data removed]",
            "text/plain": [
              "<Figure size 432x288 with 1 Axes>"
            ]
          },
          "metadata": {
            "tags": [],
            "needs_background": "light"
          }
        }
      ]
    }
  ]
}